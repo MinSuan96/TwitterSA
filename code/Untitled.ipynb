{
 "cells": [
  {
   "cell_type": "code",
   "execution_count": 10,
   "id": "baa8363f",
   "metadata": {},
   "outputs": [],
   "source": [
    "TRAIN_PROCESSED_FILE = '../twitter_data/bigDataset/Twitter_Data-processed.csv'"
   ]
  },
  {
   "cell_type": "code",
   "execution_count": 21,
   "id": "74598be6",
   "metadata": {},
   "outputs": [],
   "source": [
    "import numpy as np\n",
    "import pandas as pd\n",
    "from sklearn.model_selection import train_test_split"
   ]
  },
  {
   "cell_type": "code",
   "execution_count": 12,
   "id": "99a10ea2",
   "metadata": {},
   "outputs": [
    {
     "name": "stdout",
     "output_type": "stream",
     "text": [
      "107762\n"
     ]
    }
   ],
   "source": [
    "data = pd.read_csv(TRAIN_PROCESSED_FILE, header=None)\n",
    "print(len(data))"
   ]
  },
  {
   "cell_type": "code",
   "execution_count": 13,
   "id": "ca0de410",
   "metadata": {},
   "outputs": [
    {
     "data": {
      "text/plain": [
       "35510"
      ]
     },
     "execution_count": 13,
     "metadata": {},
     "output_type": "execute_result"
    }
   ],
   "source": [
    "len(data.loc[data[1] == 0])"
   ]
  },
  {
   "cell_type": "code",
   "execution_count": 14,
   "id": "9ec4c7bd",
   "metadata": {},
   "outputs": [
    {
     "data": {
      "text/plain": [
       "72252"
      ]
     },
     "execution_count": 14,
     "metadata": {},
     "output_type": "execute_result"
    }
   ],
   "source": [
    "len(data.loc[data[1] == 1])"
   ]
  },
  {
   "cell_type": "code",
   "execution_count": 17,
   "id": "abb00645",
   "metadata": {},
   "outputs": [],
   "source": [
    "y = data[1]\n",
    "y.head(5)"
   ]
  },
  {
   "cell_type": "code",
   "execution_count": 19,
   "id": "0c67edc1",
   "metadata": {},
   "outputs": [],
   "source": [
    "y.to_csv('../twitter_data/bigDataset/Twitter_Data-processed-y.csv', header=False, index=False)"
   ]
  },
  {
   "cell_type": "code",
   "execution_count": 22,
   "id": "515e2103",
   "metadata": {},
   "outputs": [],
   "source": [
    "X_train, X_test, y_train, y_test = train_test_split(data, y, test_size=0.2, random_state=42)"
   ]
  },
  {
   "cell_type": "code",
   "execution_count": 26,
   "id": "31affc34",
   "metadata": {},
   "outputs": [
    {
     "data": {
      "text/html": [
       "<div>\n",
       "<style scoped>\n",
       "    .dataframe tbody tr th:only-of-type {\n",
       "        vertical-align: middle;\n",
       "    }\n",
       "\n",
       "    .dataframe tbody tr th {\n",
       "        vertical-align: top;\n",
       "    }\n",
       "\n",
       "    .dataframe thead th {\n",
       "        text-align: right;\n",
       "    }\n",
       "</style>\n",
       "<table border=\"1\" class=\"dataframe\">\n",
       "  <thead>\n",
       "    <tr style=\"text-align: right;\">\n",
       "      <th></th>\n",
       "      <th>0</th>\n",
       "      <th>1</th>\n",
       "      <th>2</th>\n",
       "    </tr>\n",
       "  </thead>\n",
       "  <tbody>\n",
       "    <tr>\n",
       "      <th>76740</th>\n",
       "      <td>76741</td>\n",
       "      <td>1</td>\n",
       "      <td>good news that nirav modi has been denied bail...</td>\n",
       "    </tr>\n",
       "    <tr>\n",
       "      <th>4881</th>\n",
       "      <td>4882</td>\n",
       "      <td>1</td>\n",
       "      <td>congress repeated this promise guj hoping can ...</td>\n",
       "    </tr>\n",
       "    <tr>\n",
       "      <th>64374</th>\n",
       "      <td>64375</td>\n",
       "      <td>1</td>\n",
       "      <td>why folks remind him that song that modi stole...</td>\n",
       "    </tr>\n",
       "    <tr>\n",
       "      <th>29748</th>\n",
       "      <td>29749</td>\n",
       "      <td>1</td>\n",
       "      <td>new delhi ahead the first phase the lok sabha ...</td>\n",
       "    </tr>\n",
       "    <tr>\n",
       "      <th>37798</th>\n",
       "      <td>37799</td>\n",
       "      <td>1</td>\n",
       "      <td>mamata didi really knw wat drdo achievedif mod...</td>\n",
       "    </tr>\n",
       "    <tr>\n",
       "      <th>...</th>\n",
       "      <td>...</td>\n",
       "      <td>...</td>\n",
       "      <td>...</td>\n",
       "    </tr>\n",
       "    <tr>\n",
       "      <th>2167</th>\n",
       "      <td>2168</td>\n",
       "      <td>1</td>\n",
       "      <td>that modi govt has differentiated the basis re...</td>\n",
       "    </tr>\n",
       "    <tr>\n",
       "      <th>34908</th>\n",
       "      <td>34909</td>\n",
       "      <td>1</td>\n",
       "      <td>wrongmodi the best</td>\n",
       "    </tr>\n",
       "    <tr>\n",
       "      <th>44971</th>\n",
       "      <td>44972</td>\n",
       "      <td>0</td>\n",
       "      <td>the same was done modi these ugly cheer leader...</td>\n",
       "    </tr>\n",
       "    <tr>\n",
       "      <th>97695</th>\n",
       "      <td>97696</td>\n",
       "      <td>1</td>\n",
       "      <td>baat batao minimum wages kya hogi nyay yojana ...</td>\n",
       "    </tr>\n",
       "    <tr>\n",
       "      <th>18139</th>\n",
       "      <td>18140</td>\n",
       "      <td>1</td>\n",
       "      <td>course bjp has got much money spend marketing ...</td>\n",
       "    </tr>\n",
       "  </tbody>\n",
       "</table>\n",
       "<p>21553 rows × 3 columns</p>\n",
       "</div>"
      ],
      "text/plain": [
       "           0  1                                                  2\n",
       "76740  76741  1  good news that nirav modi has been denied bail...\n",
       "4881    4882  1  congress repeated this promise guj hoping can ...\n",
       "64374  64375  1  why folks remind him that song that modi stole...\n",
       "29748  29749  1  new delhi ahead the first phase the lok sabha ...\n",
       "37798  37799  1  mamata didi really knw wat drdo achievedif mod...\n",
       "...      ... ..                                                ...\n",
       "2167    2168  1  that modi govt has differentiated the basis re...\n",
       "34908  34909  1                                 wrongmodi the best\n",
       "44971  44972  0  the same was done modi these ugly cheer leader...\n",
       "97695  97696  1  baat batao minimum wages kya hogi nyay yojana ...\n",
       "18139  18140  1  course bjp has got much money spend marketing ...\n",
       "\n",
       "[21553 rows x 3 columns]"
      ]
     },
     "execution_count": 26,
     "metadata": {},
     "output_type": "execute_result"
    }
   ],
   "source": [
    "X_test"
   ]
  },
  {
   "cell_type": "code",
   "execution_count": 25,
   "id": "055efd77",
   "metadata": {},
   "outputs": [],
   "source": [
    "X_train.to_csv('../twitter_data/bigDataset/Twitter_Data-processed-X-train.csv', header=False, index=False)\n",
    "X_test.to_csv('../twitter_data/bigDataset/Twitter_Data-processed-X-test.csv', header=False, index=False)\n",
    "y_train.to_csv('../twitter_data/bigDataset/Twitter_Data-processed-y-train.csv', header=False, index=False)\n",
    "y_test.to_csv('../twitter_data/bigDataset/Twitter_Data-processed-y-test.csv', header=False, index=False)"
   ]
  }
 ],
 "metadata": {
  "kernelspec": {
   "display_name": "Python 3 (ipykernel)",
   "language": "python",
   "name": "python3"
  },
  "language_info": {
   "codemirror_mode": {
    "name": "ipython",
    "version": 3
   },
   "file_extension": ".py",
   "mimetype": "text/x-python",
   "name": "python",
   "nbconvert_exporter": "python",
   "pygments_lexer": "ipython3",
   "version": "3.9.16"
  }
 },
 "nbformat": 4,
 "nbformat_minor": 5
}
