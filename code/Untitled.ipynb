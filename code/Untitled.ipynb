{
 "cells": [
  {
   "cell_type": "code",
   "execution_count": 10,
   "id": "baa8363f",
   "metadata": {},
   "outputs": [],
   "source": [
    "TRAIN_PROCESSED_FILE = '../twitter_data/bigDataset/Twitter_Data-processed.csv'"
   ]
  },
  {
   "cell_type": "code",
   "execution_count": 21,
   "id": "74598be6",
   "metadata": {},
   "outputs": [],
   "source": [
    "import numpy as np\n",
    "import pandas as pd\n",
    "from sklearn.model_selection import train_test_split"
   ]
  },
  {
   "cell_type": "code",
   "execution_count": 12,
   "id": "99a10ea2",
   "metadata": {},
   "outputs": [
    {
     "name": "stdout",
     "output_type": "stream",
     "text": [
      "107762\n"
     ]
    }
   ],
   "source": [
    "data = pd.read_csv(TRAIN_PROCESSED_FILE, header=None)\n",
    "print(len(data))"
   ]
  },
  {
   "cell_type": "code",
   "execution_count": 13,
   "id": "ca0de410",
   "metadata": {},
   "outputs": [
    {
     "data": {
      "text/plain": [
       "35510"
      ]
     },
     "execution_count": 13,
     "metadata": {},
     "output_type": "execute_result"
    }
   ],
   "source": [
    "len(data.loc[data[1] == 0])"
   ]
  },
  {
   "cell_type": "code",
   "execution_count": 14,
   "id": "9ec4c7bd",
   "metadata": {},
   "outputs": [
    {
     "data": {
      "text/plain": [
       "72252"
      ]
     },
     "execution_count": 14,
     "metadata": {},
     "output_type": "execute_result"
    }
   ],
   "source": [
    "len(data.loc[data[1] == 1])"
   ]
  },
  {
   "cell_type": "code",
   "execution_count": 17,
   "id": "4553e44f",
   "metadata": {},
   "outputs": [],
   "source": [
    "y = data[1]\n",
    "y.head(5)"
   ]
  },
  {
   "cell_type": "code",
   "execution_count": 19,
   "id": "25e09937",
   "metadata": {},
   "outputs": [],
   "source": [
    "y.to_csv('../twitter_data/bigDataset/Twitter_Data-processed-y.csv', header=False, index=False)"
   ]
  },
  {
   "cell_type": "code",
   "execution_count": 22,
   "id": "224c2c41",
   "metadata": {},
   "outputs": [],
   "source": [
    "X_train, X_test, y_train, y_test = train_test_split(data, y, test_size=0.2, random_state=42)"
   ]
  },
  {
   "cell_type": "code",
   "execution_count": 30,
   "id": "220de658",
   "metadata": {},
   "outputs": [],
   "source": [
    "X_test = X_test.drop([1], axis=1)"
   ]
  },
  {
   "cell_type": "code",
   "execution_count": 31,
   "id": "78a2443b",
   "metadata": {},
   "outputs": [],
   "source": [
    "X_train.to_csv('../twitter_data/bigDataset/Twitter_Data-processed-train.csv', header=False, index=False)\n",
    "X_test.to_csv('../twitter_data/bigDataset/Twitter_Data-processed-X-test.csv', header=False, index=False)\n",
    "y_test.to_csv('../twitter_data/bigDataset/Twitter_Data-processed-y-test.csv', header=False, index=False)"
   ]
  }
 ],
 "metadata": {
  "kernelspec": {
   "display_name": "Python 3 (ipykernel)",
   "language": "python",
   "name": "python3"
  },
  "language_info": {
   "codemirror_mode": {
    "name": "ipython",
    "version": 3
   },
   "file_extension": ".py",
   "mimetype": "text/x-python",
   "name": "python",
   "nbconvert_exporter": "python",
   "pygments_lexer": "ipython3",
   "version": "3.9.16"
  }
 },
 "nbformat": 4,
 "nbformat_minor": 5
}
