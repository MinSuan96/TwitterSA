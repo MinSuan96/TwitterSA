{
 "cells": [
  {
   "cell_type": "code",
   "execution_count": 63,
   "id": "baa8363f",
   "metadata": {},
   "outputs": [],
   "source": [
    "TRAIN_PROCESSED_FILE = '../twitter_data/reddit-twitter/Reddit_Data.csv'"
   ]
  },
  {
   "cell_type": "code",
   "execution_count": 21,
   "id": "74598be6",
   "metadata": {},
   "outputs": [],
   "source": [
    "import numpy as np\n",
    "import pandas as pd\n",
    "from sklearn.model_selection import train_test_split"
   ]
  },
  {
   "cell_type": "code",
   "execution_count": 128,
   "id": "99a10ea2",
   "metadata": {},
   "outputs": [
    {
     "name": "stdout",
     "output_type": "stream",
     "text": [
      "37249\n"
     ]
    }
   ],
   "source": [
    "data = pd.read_csv(TRAIN_PROCESSED_FILE)\n",
    "print(len(data))"
   ]
  },
  {
   "cell_type": "code",
   "execution_count": 129,
   "id": "a209a559",
   "metadata": {
    "scrolled": true
   },
   "outputs": [
    {
     "data": {
      "text/html": [
       "<div>\n",
       "<style scoped>\n",
       "    .dataframe tbody tr th:only-of-type {\n",
       "        vertical-align: middle;\n",
       "    }\n",
       "\n",
       "    .dataframe tbody tr th {\n",
       "        vertical-align: top;\n",
       "    }\n",
       "\n",
       "    .dataframe thead th {\n",
       "        text-align: right;\n",
       "    }\n",
       "</style>\n",
       "<table border=\"1\" class=\"dataframe\">\n",
       "  <thead>\n",
       "    <tr style=\"text-align: right;\">\n",
       "      <th></th>\n",
       "      <th>clean_comment</th>\n",
       "      <th>category</th>\n",
       "    </tr>\n",
       "  </thead>\n",
       "  <tbody>\n",
       "    <tr>\n",
       "      <th>0</th>\n",
       "      <td>family mormon have never tried explain them t...</td>\n",
       "      <td>1</td>\n",
       "    </tr>\n",
       "    <tr>\n",
       "      <th>1</th>\n",
       "      <td>buddhism has very much lot compatible with chr...</td>\n",
       "      <td>1</td>\n",
       "    </tr>\n",
       "    <tr>\n",
       "      <th>2</th>\n",
       "      <td>seriously don say thing first all they won get...</td>\n",
       "      <td>-1</td>\n",
       "    </tr>\n",
       "    <tr>\n",
       "      <th>3</th>\n",
       "      <td>what you have learned yours and only yours wha...</td>\n",
       "      <td>0</td>\n",
       "    </tr>\n",
       "    <tr>\n",
       "      <th>4</th>\n",
       "      <td>for your own benefit you may want read living ...</td>\n",
       "      <td>1</td>\n",
       "    </tr>\n",
       "  </tbody>\n",
       "</table>\n",
       "</div>"
      ],
      "text/plain": [
       "                                       clean_comment  category\n",
       "0   family mormon have never tried explain them t...         1\n",
       "1  buddhism has very much lot compatible with chr...         1\n",
       "2  seriously don say thing first all they won get...        -1\n",
       "3  what you have learned yours and only yours wha...         0\n",
       "4  for your own benefit you may want read living ...         1"
      ]
     },
     "execution_count": 129,
     "metadata": {},
     "output_type": "execute_result"
    }
   ],
   "source": [
    "data.head(5)"
   ]
  },
  {
   "cell_type": "code",
   "execution_count": 130,
   "id": "7a7b9d6e",
   "metadata": {},
   "outputs": [],
   "source": [
    "data = data[['category', 'clean_comment']]"
   ]
  },
  {
   "cell_type": "code",
   "execution_count": 131,
   "id": "c195deaf",
   "metadata": {},
   "outputs": [
    {
     "ename": "KeyError",
     "evalue": "\"None of [Int64Index([2], dtype='int64')] are in the [columns]\"",
     "output_type": "error",
     "traceback": [
      "\u001b[1;31m---------------------------------------------------------------------------\u001b[0m",
      "\u001b[1;31mKeyError\u001b[0m                                  Traceback (most recent call last)",
      "Cell \u001b[1;32mIn[131], line 1\u001b[0m\n\u001b[1;32m----> 1\u001b[0m text \u001b[38;5;241m=\u001b[39m \u001b[43mdata\u001b[49m\u001b[43m[\u001b[49m\u001b[43m[\u001b[49m\u001b[38;5;241;43m2\u001b[39;49m\u001b[43m]\u001b[49m\u001b[43m]\u001b[49m\n\u001b[0;32m      2\u001b[0m count \u001b[38;5;241m=\u001b[39m \u001b[38;5;241m0\u001b[39m\n\u001b[0;32m      3\u001b[0m max_count \u001b[38;5;241m=\u001b[39m \u001b[38;5;241m-\u001b[39m\u001b[38;5;241m1\u001b[39m\n",
      "File \u001b[1;32m~\\anaconda3\\envs\\mlp2\\lib\\site-packages\\pandas\\core\\frame.py:3811\u001b[0m, in \u001b[0;36mDataFrame.__getitem__\u001b[1;34m(self, key)\u001b[0m\n\u001b[0;32m   3809\u001b[0m     \u001b[38;5;28;01mif\u001b[39;00m is_iterator(key):\n\u001b[0;32m   3810\u001b[0m         key \u001b[38;5;241m=\u001b[39m \u001b[38;5;28mlist\u001b[39m(key)\n\u001b[1;32m-> 3811\u001b[0m     indexer \u001b[38;5;241m=\u001b[39m \u001b[38;5;28;43mself\u001b[39;49m\u001b[38;5;241;43m.\u001b[39;49m\u001b[43mcolumns\u001b[49m\u001b[38;5;241;43m.\u001b[39;49m\u001b[43m_get_indexer_strict\u001b[49m\u001b[43m(\u001b[49m\u001b[43mkey\u001b[49m\u001b[43m,\u001b[49m\u001b[43m \u001b[49m\u001b[38;5;124;43m\"\u001b[39;49m\u001b[38;5;124;43mcolumns\u001b[39;49m\u001b[38;5;124;43m\"\u001b[39;49m\u001b[43m)\u001b[49m[\u001b[38;5;241m1\u001b[39m]\n\u001b[0;32m   3813\u001b[0m \u001b[38;5;66;03m# take() does not accept boolean indexers\u001b[39;00m\n\u001b[0;32m   3814\u001b[0m \u001b[38;5;28;01mif\u001b[39;00m \u001b[38;5;28mgetattr\u001b[39m(indexer, \u001b[38;5;124m\"\u001b[39m\u001b[38;5;124mdtype\u001b[39m\u001b[38;5;124m\"\u001b[39m, \u001b[38;5;28;01mNone\u001b[39;00m) \u001b[38;5;241m==\u001b[39m \u001b[38;5;28mbool\u001b[39m:\n",
      "File \u001b[1;32m~\\anaconda3\\envs\\mlp2\\lib\\site-packages\\pandas\\core\\indexes\\base.py:6113\u001b[0m, in \u001b[0;36mIndex._get_indexer_strict\u001b[1;34m(self, key, axis_name)\u001b[0m\n\u001b[0;32m   6110\u001b[0m \u001b[38;5;28;01melse\u001b[39;00m:\n\u001b[0;32m   6111\u001b[0m     keyarr, indexer, new_indexer \u001b[38;5;241m=\u001b[39m \u001b[38;5;28mself\u001b[39m\u001b[38;5;241m.\u001b[39m_reindex_non_unique(keyarr)\n\u001b[1;32m-> 6113\u001b[0m \u001b[38;5;28;43mself\u001b[39;49m\u001b[38;5;241;43m.\u001b[39;49m\u001b[43m_raise_if_missing\u001b[49m\u001b[43m(\u001b[49m\u001b[43mkeyarr\u001b[49m\u001b[43m,\u001b[49m\u001b[43m \u001b[49m\u001b[43mindexer\u001b[49m\u001b[43m,\u001b[49m\u001b[43m \u001b[49m\u001b[43maxis_name\u001b[49m\u001b[43m)\u001b[49m\n\u001b[0;32m   6115\u001b[0m keyarr \u001b[38;5;241m=\u001b[39m \u001b[38;5;28mself\u001b[39m\u001b[38;5;241m.\u001b[39mtake(indexer)\n\u001b[0;32m   6116\u001b[0m \u001b[38;5;28;01mif\u001b[39;00m \u001b[38;5;28misinstance\u001b[39m(key, Index):\n\u001b[0;32m   6117\u001b[0m     \u001b[38;5;66;03m# GH 42790 - Preserve name from an Index\u001b[39;00m\n",
      "File \u001b[1;32m~\\anaconda3\\envs\\mlp2\\lib\\site-packages\\pandas\\core\\indexes\\base.py:6173\u001b[0m, in \u001b[0;36mIndex._raise_if_missing\u001b[1;34m(self, key, indexer, axis_name)\u001b[0m\n\u001b[0;32m   6171\u001b[0m     \u001b[38;5;28;01mif\u001b[39;00m use_interval_msg:\n\u001b[0;32m   6172\u001b[0m         key \u001b[38;5;241m=\u001b[39m \u001b[38;5;28mlist\u001b[39m(key)\n\u001b[1;32m-> 6173\u001b[0m     \u001b[38;5;28;01mraise\u001b[39;00m \u001b[38;5;167;01mKeyError\u001b[39;00m(\u001b[38;5;124mf\u001b[39m\u001b[38;5;124m\"\u001b[39m\u001b[38;5;124mNone of [\u001b[39m\u001b[38;5;132;01m{\u001b[39;00mkey\u001b[38;5;132;01m}\u001b[39;00m\u001b[38;5;124m] are in the [\u001b[39m\u001b[38;5;132;01m{\u001b[39;00maxis_name\u001b[38;5;132;01m}\u001b[39;00m\u001b[38;5;124m]\u001b[39m\u001b[38;5;124m\"\u001b[39m)\n\u001b[0;32m   6175\u001b[0m not_found \u001b[38;5;241m=\u001b[39m \u001b[38;5;28mlist\u001b[39m(ensure_index(key)[missing_mask\u001b[38;5;241m.\u001b[39mnonzero()[\u001b[38;5;241m0\u001b[39m]]\u001b[38;5;241m.\u001b[39munique())\n\u001b[0;32m   6176\u001b[0m \u001b[38;5;28;01mraise\u001b[39;00m \u001b[38;5;167;01mKeyError\u001b[39;00m(\u001b[38;5;124mf\u001b[39m\u001b[38;5;124m\"\u001b[39m\u001b[38;5;132;01m{\u001b[39;00mnot_found\u001b[38;5;132;01m}\u001b[39;00m\u001b[38;5;124m not in index\u001b[39m\u001b[38;5;124m\"\u001b[39m)\n",
      "\u001b[1;31mKeyError\u001b[0m: \"None of [Int64Index([2], dtype='int64')] are in the [columns]\""
     ]
    }
   ],
   "source": [
    "text = data[[2]]\n",
    "count = 0\n",
    "max_count = -1\n",
    "min_count = float('inf')\n",
    "lessthan5 = 0\n",
    "for i in range(2, len(text)):\n",
    "    v = text.iloc[i].values[0]\n",
    "    if isinstance(v, str):\n",
    "        if (len(text.iloc[i].values[0].split())) > max_count:\n",
    "            max_count = len(text.iloc[i].values[0].split())\n",
    "        if (len(text.iloc[i].values[0].split())) < min_count:\n",
    "            min_count = len(text.iloc[i].values[0].split())\n",
    "        if (len(text.iloc[i].values[0].split())) < 20:\n",
    "            lessthan5 += 1\n",
    "        count += len(text.iloc[i].values[0].split())\n",
    "count /= len(data)\n",
    "print(count)\n",
    "print(lessthan5)\n",
    "print(max_count)\n",
    "print(min_count)"
   ]
  },
  {
   "cell_type": "code",
   "execution_count": 98,
   "id": "a5cf33ed",
   "metadata": {},
   "outputs": [
    {
     "data": {
      "text/plain": [
       "15830"
      ]
     },
     "execution_count": 98,
     "metadata": {},
     "output_type": "execute_result"
    }
   ],
   "source": [
    "len(data.loc[data['category'] == 1])"
   ]
  },
  {
   "cell_type": "code",
   "execution_count": 99,
   "id": "bad63576",
   "metadata": {},
   "outputs": [
    {
     "data": {
      "text/plain": [
       "8277"
      ]
     },
     "execution_count": 99,
     "metadata": {},
     "output_type": "execute_result"
    }
   ],
   "source": [
    "len(data.loc[data['category'] == -1])"
   ]
  },
  {
   "cell_type": "code",
   "execution_count": 100,
   "id": "acd53e41",
   "metadata": {},
   "outputs": [
    {
     "data": {
      "text/plain": [
       "13142"
      ]
     },
     "execution_count": 100,
     "metadata": {},
     "output_type": "execute_result"
    }
   ],
   "source": [
    "len(data.loc[data['category'] == 0])"
   ]
  },
  {
   "cell_type": "code",
   "execution_count": 126,
   "id": "89f1bbc3",
   "metadata": {
    "scrolled": true
   },
   "outputs": [
    {
     "name": "stderr",
     "output_type": "stream",
     "text": [
      "C:\\Users\\minsu\\AppData\\Local\\Temp\\ipykernel_3044\\3875382132.py:2: FutureWarning: The frame.append method is deprecated and will be removed from pandas in a future version. Use pandas.concat instead.\n",
      "  equal_count_data = equal_count_data.append(data.loc[data['category'] == -1][0:8277])\n",
      "C:\\Users\\minsu\\AppData\\Local\\Temp\\ipykernel_3044\\3875382132.py:3: FutureWarning: The frame.append method is deprecated and will be removed from pandas in a future version. Use pandas.concat instead.\n",
      "  equal_count_data = equal_count_data.append(data.loc[data['category'] == 0][0:8277])\n"
     ]
    }
   ],
   "source": [
    "equal_count_data = data.loc[data['category'] == 1][0:8277]\n",
    "equal_count_data = equal_count_data.append(data.loc[data['category'] == -1][0:8277])\n",
    "equal_count_data = equal_count_data.append(data.loc[data['category'] == 0][0:8277])"
   ]
  },
  {
   "cell_type": "code",
   "execution_count": 127,
   "id": "ea02d3c3",
   "metadata": {},
   "outputs": [
    {
     "data": {
      "text/plain": [
       "8277"
      ]
     },
     "execution_count": 127,
     "metadata": {},
     "output_type": "execute_result"
    }
   ],
   "source": [
    "len(equal_count_data)"
   ]
  },
  {
   "cell_type": "code",
   "execution_count": 120,
   "id": "f7313fcb",
   "metadata": {},
   "outputs": [
    {
     "data": {
      "text/html": [
       "<div>\n",
       "<style scoped>\n",
       "    .dataframe tbody tr th:only-of-type {\n",
       "        vertical-align: middle;\n",
       "    }\n",
       "\n",
       "    .dataframe tbody tr th {\n",
       "        vertical-align: top;\n",
       "    }\n",
       "\n",
       "    .dataframe thead th {\n",
       "        text-align: right;\n",
       "    }\n",
       "</style>\n",
       "<table border=\"1\" class=\"dataframe\">\n",
       "  <thead>\n",
       "    <tr style=\"text-align: right;\">\n",
       "      <th></th>\n",
       "      <th>category</th>\n",
       "    </tr>\n",
       "  </thead>\n",
       "  <tbody>\n",
       "    <tr>\n",
       "      <th>0</th>\n",
       "      <td>1</td>\n",
       "    </tr>\n",
       "    <tr>\n",
       "      <th>1</th>\n",
       "      <td>1</td>\n",
       "    </tr>\n",
       "    <tr>\n",
       "      <th>4</th>\n",
       "      <td>1</td>\n",
       "    </tr>\n",
       "    <tr>\n",
       "      <th>6</th>\n",
       "      <td>1</td>\n",
       "    </tr>\n",
       "    <tr>\n",
       "      <th>9</th>\n",
       "      <td>1</td>\n",
       "    </tr>\n",
       "  </tbody>\n",
       "</table>\n",
       "</div>"
      ],
      "text/plain": [
       "   category\n",
       "0         1\n",
       "1         1\n",
       "4         1\n",
       "6         1\n",
       "9         1"
      ]
     },
     "execution_count": 120,
     "metadata": {},
     "output_type": "execute_result"
    }
   ],
   "source": [
    "y = data[['category']]\n",
    "y.head(5)"
   ]
  },
  {
   "cell_type": "code",
   "execution_count": 102,
   "id": "053c787c",
   "metadata": {},
   "outputs": [],
   "source": [
    "def split_train_test(data, y, test_size=0.2, random_state=42):\n",
    "    X_train, X_test, y_train, y_test = train_test_split(data, y, test_size=test_size, random_state=random_state)\n",
    "#     X_test = X_test.drop([1], axis=1)\n",
    "#     y_test = y_test.drop([0], axis=1)\n",
    "    print(len(X_train))\n",
    "    print(len(X_test))\n",
    "    return X_train, X_test, y_train, y_test"
   ]
  },
  {
   "cell_type": "code",
   "execution_count": 103,
   "id": "11c31587",
   "metadata": {},
   "outputs": [
    {
     "name": "stdout",
     "output_type": "stream",
     "text": [
      "29799\n",
      "7450\n",
      "29799\n",
      "7450\n",
      "29799\n",
      "7450\n",
      "29799\n",
      "7450\n",
      "29799\n",
      "7450\n"
     ]
    }
   ],
   "source": [
    "X_train0, X_test0, y_train0, y_test0 = split_train_test(data, y, test_size=0.2, random_state=990309)\n",
    "X_train1, X_test1, y_train1, y_test1 = split_train_test(data, y, test_size=0.2, random_state=910)\n",
    "X_train2, X_test2, y_train2, y_test2 = split_train_test(data, y, test_size=0.2, random_state=229)\n",
    "X_train3, X_test3, y_train3, y_test3 = split_train_test(data, y, test_size=0.2, random_state=1017)\n",
    "X_train4, X_test4, y_train4, y_test4 = split_train_test(data, y, test_size=0.2, random_state=1104)"
   ]
  },
  {
   "cell_type": "code",
   "execution_count": 104,
   "id": "78ed207f",
   "metadata": {},
   "outputs": [
    {
     "data": {
      "text/html": [
       "<div>\n",
       "<style scoped>\n",
       "    .dataframe tbody tr th:only-of-type {\n",
       "        vertical-align: middle;\n",
       "    }\n",
       "\n",
       "    .dataframe tbody tr th {\n",
       "        vertical-align: top;\n",
       "    }\n",
       "\n",
       "    .dataframe thead th {\n",
       "        text-align: right;\n",
       "    }\n",
       "</style>\n",
       "<table border=\"1\" class=\"dataframe\">\n",
       "  <thead>\n",
       "    <tr style=\"text-align: right;\">\n",
       "      <th></th>\n",
       "      <th>category</th>\n",
       "      <th>clean_comment</th>\n",
       "    </tr>\n",
       "  </thead>\n",
       "  <tbody>\n",
       "    <tr>\n",
       "      <th>11351</th>\n",
       "      <td>1</td>\n",
       "      <td>thats impressive</td>\n",
       "    </tr>\n",
       "    <tr>\n",
       "      <th>9009</th>\n",
       "      <td>0</td>\n",
       "      <td>deleted 9713 what this</td>\n",
       "    </tr>\n",
       "    <tr>\n",
       "      <th>14465</th>\n",
       "      <td>0</td>\n",
       "      <td>big freakin deal</td>\n",
       "    </tr>\n",
       "    <tr>\n",
       "      <th>23943</th>\n",
       "      <td>0</td>\n",
       "      <td>been there did you inside</td>\n",
       "    </tr>\n",
       "    <tr>\n",
       "      <th>9917</th>\n",
       "      <td>0</td>\n",
       "      <td>team standard gronk bennett pray the waiver wire</td>\n",
       "    </tr>\n",
       "  </tbody>\n",
       "</table>\n",
       "</div>"
      ],
      "text/plain": [
       "       category                                      clean_comment\n",
       "11351         1                                  thats impressive \n",
       "9009          0                            deleted 9713 what this \n",
       "14465         0                                  big freakin deal \n",
       "23943         0                         been there did you inside \n",
       "9917          0   team standard gronk bennett pray the waiver wire"
      ]
     },
     "execution_count": 104,
     "metadata": {},
     "output_type": "execute_result"
    }
   ],
   "source": [
    "X_train0.head(5)"
   ]
  },
  {
   "cell_type": "code",
   "execution_count": 105,
   "id": "ec52137e",
   "metadata": {},
   "outputs": [
    {
     "data": {
      "text/html": [
       "<div>\n",
       "<style scoped>\n",
       "    .dataframe tbody tr th:only-of-type {\n",
       "        vertical-align: middle;\n",
       "    }\n",
       "\n",
       "    .dataframe tbody tr th {\n",
       "        vertical-align: top;\n",
       "    }\n",
       "\n",
       "    .dataframe thead th {\n",
       "        text-align: right;\n",
       "    }\n",
       "</style>\n",
       "<table border=\"1\" class=\"dataframe\">\n",
       "  <thead>\n",
       "    <tr style=\"text-align: right;\">\n",
       "      <th></th>\n",
       "      <th>category</th>\n",
       "      <th>clean_comment</th>\n",
       "    </tr>\n",
       "  </thead>\n",
       "  <tbody>\n",
       "    <tr>\n",
       "      <th>27474</th>\n",
       "      <td>-1</td>\n",
       "      <td>stupid fucktards</td>\n",
       "    </tr>\n",
       "    <tr>\n",
       "      <th>10015</th>\n",
       "      <td>1</td>\n",
       "      <td>team full ppr need flex play after failing tr...</td>\n",
       "    </tr>\n",
       "    <tr>\n",
       "      <th>32715</th>\n",
       "      <td>1</td>\n",
       "      <td>think gps chip there somewhere the red fort g...</td>\n",
       "    </tr>\n",
       "    <tr>\n",
       "      <th>4976</th>\n",
       "      <td>0</td>\n",
       "      <td>but what their babip can they help desmond hit...</td>\n",
       "    </tr>\n",
       "    <tr>\n",
       "      <th>33919</th>\n",
       "      <td>0</td>\n",
       "      <td>been wanting get this thank you</td>\n",
       "    </tr>\n",
       "  </tbody>\n",
       "</table>\n",
       "</div>"
      ],
      "text/plain": [
       "       category                                      clean_comment\n",
       "27474        -1                                  stupid fucktards \n",
       "10015         1   team full ppr need flex play after failing tr...\n",
       "32715         1   think gps chip there somewhere the red fort g...\n",
       "4976          0  but what their babip can they help desmond hit...\n",
       "33919         0                   been wanting get this thank you "
      ]
     },
     "execution_count": 105,
     "metadata": {},
     "output_type": "execute_result"
    }
   ],
   "source": [
    "X_test0.head(5)"
   ]
  },
  {
   "cell_type": "code",
   "execution_count": 90,
   "id": "a4060563",
   "metadata": {},
   "outputs": [],
   "source": [
    "X_test0 = X_test0.drop(['category'], axis=1)"
   ]
  },
  {
   "cell_type": "code",
   "execution_count": 84,
   "id": "5803f196",
   "metadata": {},
   "outputs": [
    {
     "data": {
      "text/html": [
       "<div>\n",
       "<style scoped>\n",
       "    .dataframe tbody tr th:only-of-type {\n",
       "        vertical-align: middle;\n",
       "    }\n",
       "\n",
       "    .dataframe tbody tr th {\n",
       "        vertical-align: top;\n",
       "    }\n",
       "\n",
       "    .dataframe thead th {\n",
       "        text-align: right;\n",
       "    }\n",
       "</style>\n",
       "<table border=\"1\" class=\"dataframe\">\n",
       "  <thead>\n",
       "    <tr style=\"text-align: right;\">\n",
       "      <th></th>\n",
       "      <th>category</th>\n",
       "    </tr>\n",
       "  </thead>\n",
       "  <tbody>\n",
       "    <tr>\n",
       "      <th>27474</th>\n",
       "      <td>-1</td>\n",
       "    </tr>\n",
       "    <tr>\n",
       "      <th>10015</th>\n",
       "      <td>1</td>\n",
       "    </tr>\n",
       "    <tr>\n",
       "      <th>32715</th>\n",
       "      <td>1</td>\n",
       "    </tr>\n",
       "    <tr>\n",
       "      <th>4976</th>\n",
       "      <td>0</td>\n",
       "    </tr>\n",
       "    <tr>\n",
       "      <th>33919</th>\n",
       "      <td>0</td>\n",
       "    </tr>\n",
       "  </tbody>\n",
       "</table>\n",
       "</div>"
      ],
      "text/plain": [
       "       category\n",
       "27474        -1\n",
       "10015         1\n",
       "32715         1\n",
       "4976          0\n",
       "33919         0"
      ]
     },
     "execution_count": 84,
     "metadata": {},
     "output_type": "execute_result"
    }
   ],
   "source": [
    "y_test0.head(5)"
   ]
  },
  {
   "cell_type": "code",
   "execution_count": 92,
   "id": "fcfafe8e",
   "metadata": {},
   "outputs": [],
   "source": [
    "def write_to_csv(X_train, X_test, y_test, name, header=False, index=False):\n",
    "    X_train.to_csv('../twitter_data/reddit-twitter/3-sentiment-reddit-train-{}.csv'.format(name), header=header, index=index)\n",
    "    X_test.to_csv('../twitter_data/reddit-twitter/3-sentiment-reddit-X-test-{}.csv'.format(name), header=header, index=index)\n",
    "    y_test.to_csv('../twitter_data/reddit-twitter/3-sentiment-reddit-y-test-{}.csv'.format(name), header=header, index=index)\n",
    "    "
   ]
  },
  {
   "cell_type": "code",
   "execution_count": 93,
   "id": "af11e3c3",
   "metadata": {},
   "outputs": [],
   "source": [
    "write_to_csv(X_train0, X_test0, y_test0, \"fold0\", index=True)\n",
    "write_to_csv(X_train1, X_test1, y_test1, \"fold1\", index=True)\n",
    "write_to_csv(X_train2, X_test2, y_test2, \"fold2\", index=True)\n",
    "write_to_csv(X_train3, X_test3, y_test3, \"fold3\", index=True)\n",
    "write_to_csv(X_train4, X_test4, y_test4, \"fold4\", index=True)"
   ]
  }
 ],
 "metadata": {
  "kernelspec": {
   "display_name": "Python 3 (ipykernel)",
   "language": "python",
   "name": "python3"
  },
  "language_info": {
   "codemirror_mode": {
    "name": "ipython",
    "version": 3
   },
   "file_extension": ".py",
   "mimetype": "text/x-python",
   "name": "python",
   "nbconvert_exporter": "python",
   "pygments_lexer": "ipython3",
   "version": "3.9.16"
  }
 },
 "nbformat": 4,
 "nbformat_minor": 5
}
