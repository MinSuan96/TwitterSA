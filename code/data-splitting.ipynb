{
 "cells": [
  {
   "cell_type": "code",
   "execution_count": 39,
   "id": "baa8363f",
   "metadata": {},
   "outputs": [],
   "source": [
    "TRAIN_PROCESSED_FILE = '../twitter_data/3-sentiment-processed.csv'"
   ]
  },
  {
   "cell_type": "code",
   "execution_count": 21,
   "id": "74598be6",
   "metadata": {},
   "outputs": [],
   "source": [
    "import numpy as np\n",
    "import pandas as pd\n",
    "from sklearn.model_selection import train_test_split"
   ]
  },
  {
   "cell_type": "code",
   "execution_count": 40,
   "id": "99a10ea2",
   "metadata": {},
   "outputs": [
    {
     "name": "stdout",
     "output_type": "stream",
     "text": [
      "106530\n"
     ]
    }
   ],
   "source": [
    "data = pd.read_csv(TRAIN_PROCESSED_FILE, header=None)\n",
    "print(len(data))"
   ]
  },
  {
   "cell_type": "code",
   "execution_count": 31,
   "id": "a209a559",
   "metadata": {
    "scrolled": true
   },
   "outputs": [
    {
     "data": {
      "text/html": [
       "<div>\n",
       "<style scoped>\n",
       "    .dataframe tbody tr th:only-of-type {\n",
       "        vertical-align: middle;\n",
       "    }\n",
       "\n",
       "    .dataframe tbody tr th {\n",
       "        vertical-align: top;\n",
       "    }\n",
       "\n",
       "    .dataframe thead th {\n",
       "        text-align: right;\n",
       "    }\n",
       "</style>\n",
       "<table border=\"1\" class=\"dataframe\">\n",
       "  <thead>\n",
       "    <tr style=\"text-align: right;\">\n",
       "      <th></th>\n",
       "      <th>0</th>\n",
       "      <th>1</th>\n",
       "      <th>2</th>\n",
       "    </tr>\n",
       "  </thead>\n",
       "  <tbody>\n",
       "    <tr>\n",
       "      <th>0</th>\n",
       "      <td>1</td>\n",
       "      <td>0</td>\n",
       "      <td>talk all the nonsense and continue all the dra...</td>\n",
       "    </tr>\n",
       "    <tr>\n",
       "      <th>1</th>\n",
       "      <td>5</td>\n",
       "      <td>0</td>\n",
       "      <td>kiya tho refresh maarkefir comment karo</td>\n",
       "    </tr>\n",
       "    <tr>\n",
       "      <th>2</th>\n",
       "      <td>6</td>\n",
       "      <td>0</td>\n",
       "      <td>surat women perform yagna seeks divine grace f...</td>\n",
       "    </tr>\n",
       "    <tr>\n",
       "      <th>3</th>\n",
       "      <td>7</td>\n",
       "      <td>0</td>\n",
       "      <td>this comes from cabinet which has scholars lik...</td>\n",
       "    </tr>\n",
       "    <tr>\n",
       "      <th>4</th>\n",
       "      <td>13</td>\n",
       "      <td>0</td>\n",
       "      <td>one vote can make all the difference anil kapo...</td>\n",
       "    </tr>\n",
       "  </tbody>\n",
       "</table>\n",
       "</div>"
      ],
      "text/plain": [
       "    0  1                                                  2\n",
       "0   1  0  talk all the nonsense and continue all the dra...\n",
       "1   5  0            kiya tho refresh maarkefir comment karo\n",
       "2   6  0  surat women perform yagna seeks divine grace f...\n",
       "3   7  0  this comes from cabinet which has scholars lik...\n",
       "4  13  0  one vote can make all the difference anil kapo..."
      ]
     },
     "execution_count": 31,
     "metadata": {},
     "output_type": "execute_result"
    }
   ],
   "source": [
    "data.head(5)"
   ]
  },
  {
   "cell_type": "code",
   "execution_count": 15,
   "id": "c195deaf",
   "metadata": {},
   "outputs": [
    {
     "name": "stdout",
     "output_type": "stream",
     "text": [
      "19.837350980944336\n",
      "56499\n",
      "50\n",
      "1\n"
     ]
    }
   ],
   "source": [
    "text = data[[2]]\n",
    "count = 0\n",
    "max_count = -1\n",
    "min_count = float('inf')\n",
    "lessthan5 = 0\n",
    "for i in range(2, len(text)):\n",
    "    v = text.iloc[i].values[0]\n",
    "    if isinstance(v, str):\n",
    "        if (len(text.iloc[i].values[0].split())) > max_count:\n",
    "            max_count = len(text.iloc[i].values[0].split())\n",
    "        if (len(text.iloc[i].values[0].split())) < min_count:\n",
    "            min_count = len(text.iloc[i].values[0].split())\n",
    "        if (len(text.iloc[i].values[0].split())) < 20:\n",
    "            lessthan5 += 1\n",
    "        count += len(text.iloc[i].values[0].split())\n",
    "count /= len(data)\n",
    "print(count)\n",
    "print(lessthan5)\n",
    "print(max_count)\n",
    "print(min_count)"
   ]
  },
  {
   "cell_type": "code",
   "execution_count": 16,
   "id": "581781d2",
   "metadata": {},
   "outputs": [
    {
     "data": {
      "text/plain": [
       "['one',\n",
       " 'vote',\n",
       " 'can',\n",
       " 'make',\n",
       " 'all',\n",
       " 'the',\n",
       " 'difference',\n",
       " 'anil',\n",
       " 'kapoor',\n",
       " 'answers',\n",
       " 'modis',\n",
       " 'election',\n",
       " 'clarion',\n",
       " 'call',\n",
       " 'extends',\n",
       " 'support',\n",
       " 'his',\n",
       " 'campaign']"
      ]
     },
     "execution_count": 16,
     "metadata": {},
     "output_type": "execute_result"
    }
   ],
   "source": [
    "text.iloc[5].values[0].split()"
   ]
  },
  {
   "cell_type": "code",
   "execution_count": 38,
   "id": "a5cf33ed",
   "metadata": {},
   "outputs": [
    {
     "data": {
      "text/plain": [
       "35510"
      ]
     },
     "execution_count": 38,
     "metadata": {},
     "output_type": "execute_result"
    }
   ],
   "source": [
    "len(data.loc[data[1] == 1])"
   ]
  },
  {
   "cell_type": "code",
   "execution_count": 41,
   "id": "f66235d2",
   "metadata": {},
   "outputs": [
    {
     "data": {
      "text/plain": [
       "35510"
      ]
     },
     "execution_count": 41,
     "metadata": {},
     "output_type": "execute_result"
    }
   ],
   "source": [
    "len(data.loc[data[1] == -1])"
   ]
  },
  {
   "cell_type": "code",
   "execution_count": 36,
   "id": "af577e08",
   "metadata": {},
   "outputs": [
    {
     "data": {
      "text/plain": [
       "35510"
      ]
     },
     "execution_count": 36,
     "metadata": {},
     "output_type": "execute_result"
    }
   ],
   "source": [
    "len(data.loc[data[1] == 0])"
   ]
  },
  {
   "cell_type": "code",
   "execution_count": 46,
   "id": "f7313fcb",
   "metadata": {},
   "outputs": [
    {
     "data": {
      "text/html": [
       "<div>\n",
       "<style scoped>\n",
       "    .dataframe tbody tr th:only-of-type {\n",
       "        vertical-align: middle;\n",
       "    }\n",
       "\n",
       "    .dataframe tbody tr th {\n",
       "        vertical-align: top;\n",
       "    }\n",
       "\n",
       "    .dataframe thead th {\n",
       "        text-align: right;\n",
       "    }\n",
       "</style>\n",
       "<table border=\"1\" class=\"dataframe\">\n",
       "  <thead>\n",
       "    <tr style=\"text-align: right;\">\n",
       "      <th></th>\n",
       "      <th>0</th>\n",
       "      <th>1</th>\n",
       "    </tr>\n",
       "  </thead>\n",
       "  <tbody>\n",
       "    <tr>\n",
       "      <th>0</th>\n",
       "      <td>1</td>\n",
       "      <td>0</td>\n",
       "    </tr>\n",
       "    <tr>\n",
       "      <th>1</th>\n",
       "      <td>5</td>\n",
       "      <td>0</td>\n",
       "    </tr>\n",
       "    <tr>\n",
       "      <th>2</th>\n",
       "      <td>6</td>\n",
       "      <td>0</td>\n",
       "    </tr>\n",
       "    <tr>\n",
       "      <th>3</th>\n",
       "      <td>7</td>\n",
       "      <td>0</td>\n",
       "    </tr>\n",
       "    <tr>\n",
       "      <th>4</th>\n",
       "      <td>13</td>\n",
       "      <td>0</td>\n",
       "    </tr>\n",
       "  </tbody>\n",
       "</table>\n",
       "</div>"
      ],
      "text/plain": [
       "    0  1\n",
       "0   1  0\n",
       "1   5  0\n",
       "2   6  0\n",
       "3   7  0\n",
       "4  13  0"
      ]
     },
     "execution_count": 46,
     "metadata": {},
     "output_type": "execute_result"
    }
   ],
   "source": [
    "y = data[[0, 1]]\n",
    "y.head(5)"
   ]
  },
  {
   "cell_type": "code",
   "execution_count": 56,
   "id": "053c787c",
   "metadata": {},
   "outputs": [],
   "source": [
    "def split_train_test(data, y, test_size=0.2, random_state=42):\n",
    "    X_train, X_test, y_train, y_test = train_test_split(data, y, test_size=test_size, random_state=random_state)\n",
    "    X_test = X_test.drop([1], axis=1)\n",
    "    y_test = y_test.drop([0], axis=1)\n",
    "    print(len(X_train))\n",
    "    print(len(X_test))\n",
    "    return X_train, X_test, y_train, y_test"
   ]
  },
  {
   "cell_type": "code",
   "execution_count": 57,
   "id": "f2a14cb7",
   "metadata": {},
   "outputs": [
    {
     "name": "stdout",
     "output_type": "stream",
     "text": [
      "85224\n",
      "21306\n",
      "85224\n",
      "21306\n",
      "85224\n",
      "21306\n",
      "85224\n",
      "21306\n",
      "85224\n",
      "21306\n"
     ]
    }
   ],
   "source": [
    "X_train0, X_test0, y_train0, y_test0 = split_train_test(data, y, test_size=0.2, random_state=990309)\n",
    "X_train1, X_test1, y_train1, y_test1 = split_train_test(data, y, test_size=0.2, random_state=910)\n",
    "X_train2, X_test2, y_train2, y_test2 = split_train_test(data, y, test_size=0.2, random_state=229)\n",
    "X_train3, X_test3, y_train3, y_test3 = split_train_test(data, y, test_size=0.2, random_state=1017)\n",
    "X_train4, X_test4, y_train4, y_test4 = split_train_test(data, y, test_size=0.2, random_state=1104)"
   ]
  },
  {
   "cell_type": "code",
   "execution_count": 58,
   "id": "78ed207f",
   "metadata": {},
   "outputs": [
    {
     "data": {
      "text/html": [
       "<div>\n",
       "<style scoped>\n",
       "    .dataframe tbody tr th:only-of-type {\n",
       "        vertical-align: middle;\n",
       "    }\n",
       "\n",
       "    .dataframe tbody tr th {\n",
       "        vertical-align: top;\n",
       "    }\n",
       "\n",
       "    .dataframe thead th {\n",
       "        text-align: right;\n",
       "    }\n",
       "</style>\n",
       "<table border=\"1\" class=\"dataframe\">\n",
       "  <thead>\n",
       "    <tr style=\"text-align: right;\">\n",
       "      <th></th>\n",
       "      <th>0</th>\n",
       "      <th>1</th>\n",
       "      <th>2</th>\n",
       "    </tr>\n",
       "  </thead>\n",
       "  <tbody>\n",
       "    <tr>\n",
       "      <th>48040</th>\n",
       "      <td>29612</td>\n",
       "      <td>1</td>\n",
       "      <td>the opens the door the future india join bjp i...</td>\n",
       "    </tr>\n",
       "    <tr>\n",
       "      <th>52287</th>\n",
       "      <td>39320</td>\n",
       "      <td>1</td>\n",
       "      <td>one day these minstersraj modifortune chasi mu...</td>\n",
       "    </tr>\n",
       "    <tr>\n",
       "      <th>67264</th>\n",
       "      <td>71417</td>\n",
       "      <td>1</td>\n",
       "      <td>friends have left friendship just because dont...</td>\n",
       "    </tr>\n",
       "    <tr>\n",
       "      <th>82580</th>\n",
       "      <td>52495</td>\n",
       "      <td>-1</td>\n",
       "      <td>dont worry they will become anti corrupt under...</td>\n",
       "    </tr>\n",
       "    <tr>\n",
       "      <th>91199</th>\n",
       "      <td>92940</td>\n",
       "      <td>-1</td>\n",
       "      <td>truth has finally come out unaccountable hoard...</td>\n",
       "    </tr>\n",
       "  </tbody>\n",
       "</table>\n",
       "</div>"
      ],
      "text/plain": [
       "           0  1                                                  2\n",
       "48040  29612  1  the opens the door the future india join bjp i...\n",
       "52287  39320  1  one day these minstersraj modifortune chasi mu...\n",
       "67264  71417  1  friends have left friendship just because dont...\n",
       "82580  52495 -1  dont worry they will become anti corrupt under...\n",
       "91199  92940 -1  truth has finally come out unaccountable hoard..."
      ]
     },
     "execution_count": 58,
     "metadata": {},
     "output_type": "execute_result"
    }
   ],
   "source": [
    "X_train0.head(5)"
   ]
  },
  {
   "cell_type": "code",
   "execution_count": 59,
   "id": "ec52137e",
   "metadata": {},
   "outputs": [
    {
     "data": {
      "text/html": [
       "<div>\n",
       "<style scoped>\n",
       "    .dataframe tbody tr th:only-of-type {\n",
       "        vertical-align: middle;\n",
       "    }\n",
       "\n",
       "    .dataframe tbody tr th {\n",
       "        vertical-align: top;\n",
       "    }\n",
       "\n",
       "    .dataframe thead th {\n",
       "        text-align: right;\n",
       "    }\n",
       "</style>\n",
       "<table border=\"1\" class=\"dataframe\">\n",
       "  <thead>\n",
       "    <tr style=\"text-align: right;\">\n",
       "      <th></th>\n",
       "      <th>0</th>\n",
       "      <th>2</th>\n",
       "    </tr>\n",
       "  </thead>\n",
       "  <tbody>\n",
       "    <tr>\n",
       "      <th>450</th>\n",
       "      <td>1328</td>\n",
       "      <td>modi should lead this country</td>\n",
       "    </tr>\n",
       "    <tr>\n",
       "      <th>42667</th>\n",
       "      <td>17261</td>\n",
       "      <td>mam have noticed that modi government well tri...</td>\n",
       "    </tr>\n",
       "    <tr>\n",
       "      <th>79588</th>\n",
       "      <td>36693</td>\n",
       "      <td>okeyd upa finance minister tweak policy iird w...</td>\n",
       "    </tr>\n",
       "    <tr>\n",
       "      <th>6722</th>\n",
       "      <td>19728</td>\n",
       "      <td>you have any idea what you are saying without ...</td>\n",
       "    </tr>\n",
       "    <tr>\n",
       "      <th>15851</th>\n",
       "      <td>45798</td>\n",
       "      <td>togetherness modi and the team drdo makes poss...</td>\n",
       "    </tr>\n",
       "  </tbody>\n",
       "</table>\n",
       "</div>"
      ],
      "text/plain": [
       "           0                                                  2\n",
       "450     1328                      modi should lead this country\n",
       "42667  17261  mam have noticed that modi government well tri...\n",
       "79588  36693  okeyd upa finance minister tweak policy iird w...\n",
       "6722   19728  you have any idea what you are saying without ...\n",
       "15851  45798  togetherness modi and the team drdo makes poss..."
      ]
     },
     "execution_count": 59,
     "metadata": {},
     "output_type": "execute_result"
    }
   ],
   "source": [
    "X_test0.head(5)"
   ]
  },
  {
   "cell_type": "code",
   "execution_count": 60,
   "id": "5803f196",
   "metadata": {},
   "outputs": [
    {
     "data": {
      "text/html": [
       "<div>\n",
       "<style scoped>\n",
       "    .dataframe tbody tr th:only-of-type {\n",
       "        vertical-align: middle;\n",
       "    }\n",
       "\n",
       "    .dataframe tbody tr th {\n",
       "        vertical-align: top;\n",
       "    }\n",
       "\n",
       "    .dataframe thead th {\n",
       "        text-align: right;\n",
       "    }\n",
       "</style>\n",
       "<table border=\"1\" class=\"dataframe\">\n",
       "  <thead>\n",
       "    <tr style=\"text-align: right;\">\n",
       "      <th></th>\n",
       "      <th>1</th>\n",
       "    </tr>\n",
       "  </thead>\n",
       "  <tbody>\n",
       "    <tr>\n",
       "      <th>450</th>\n",
       "      <td>0</td>\n",
       "    </tr>\n",
       "    <tr>\n",
       "      <th>42667</th>\n",
       "      <td>1</td>\n",
       "    </tr>\n",
       "    <tr>\n",
       "      <th>79588</th>\n",
       "      <td>-1</td>\n",
       "    </tr>\n",
       "    <tr>\n",
       "      <th>6722</th>\n",
       "      <td>0</td>\n",
       "    </tr>\n",
       "    <tr>\n",
       "      <th>15851</th>\n",
       "      <td>0</td>\n",
       "    </tr>\n",
       "  </tbody>\n",
       "</table>\n",
       "</div>"
      ],
      "text/plain": [
       "       1\n",
       "450    0\n",
       "42667  1\n",
       "79588 -1\n",
       "6722   0\n",
       "15851  0"
      ]
     },
     "execution_count": 60,
     "metadata": {},
     "output_type": "execute_result"
    }
   ],
   "source": [
    "y_test0.head(5)"
   ]
  },
  {
   "cell_type": "code",
   "execution_count": 61,
   "id": "fcfafe8e",
   "metadata": {},
   "outputs": [],
   "source": [
    "def write_to_csv(X_train, X_test, y_test, name, header=False, index=False):\n",
    "    X_train.to_csv('../twitter_data/3-sentiment-processed-train-{}.csv'.format(name), header=header, index=index)\n",
    "    X_test.to_csv('../twitter_data/3-sentiment-processed-X-test-{}.csv'.format(name), header=header, index=index)\n",
    "    y_test.to_csv('../twitter_data/3-sentiment-processed-y-test-{}.csv'.format(name), header=header, index=index)"
   ]
  },
  {
   "cell_type": "code",
   "execution_count": 62,
   "id": "451cad78",
   "metadata": {},
   "outputs": [],
   "source": [
    "write_to_csv(X_train0, X_test0, y_test0, \"fold0\")\n",
    "write_to_csv(X_train1, X_test1, y_test1, \"fold1\")\n",
    "write_to_csv(X_train2, X_test2, y_test2, \"fold2\")\n",
    "write_to_csv(X_train3, X_test3, y_test3, \"fold3\")\n",
    "write_to_csv(X_train4, X_test4, y_test4, \"fold4\")"
   ]
  }
 ],
 "metadata": {
  "kernelspec": {
   "display_name": "Python 3 (ipykernel)",
   "language": "python",
   "name": "python3"
  },
  "language_info": {
   "codemirror_mode": {
    "name": "ipython",
    "version": 3
   },
   "file_extension": ".py",
   "mimetype": "text/x-python",
   "name": "python",
   "nbconvert_exporter": "python",
   "pygments_lexer": "ipython3",
   "version": "3.9.16"
  }
 },
 "nbformat": 4,
 "nbformat_minor": 5
}
