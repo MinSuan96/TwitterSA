{
 "cells": [
  {
   "cell_type": "code",
   "execution_count": 1,
   "id": "baa8363f",
   "metadata": {},
   "outputs": [],
   "source": [
    "TRAIN_PROCESSED_FILE = '../twitter_data/twitter_data_3sentiments.csv'"
   ]
  },
  {
   "cell_type": "code",
   "execution_count": 2,
   "id": "74598be6",
   "metadata": {},
   "outputs": [],
   "source": [
    "import numpy as np\n",
    "import pandas as pd\n",
    "from sklearn.model_selection import train_test_split"
   ]
  },
  {
   "cell_type": "code",
   "execution_count": 9,
   "id": "99a10ea2",
   "metadata": {},
   "outputs": [
    {
     "name": "stdout",
     "output_type": "stream",
     "text": [
      "162980\n"
     ]
    }
   ],
   "source": [
    "data = pd.read_csv(TRAIN_PROCESSED_FILE)\n",
    "print(len(data))"
   ]
  },
  {
   "cell_type": "code",
   "execution_count": 22,
   "id": "2e86f66f",
   "metadata": {},
   "outputs": [
    {
     "data": {
      "text/html": [
       "<div>\n",
       "<style scoped>\n",
       "    .dataframe tbody tr th:only-of-type {\n",
       "        vertical-align: middle;\n",
       "    }\n",
       "\n",
       "    .dataframe tbody tr th {\n",
       "        vertical-align: top;\n",
       "    }\n",
       "\n",
       "    .dataframe thead th {\n",
       "        text-align: right;\n",
       "    }\n",
       "</style>\n",
       "<table border=\"1\" class=\"dataframe\">\n",
       "  <thead>\n",
       "    <tr style=\"text-align: right;\">\n",
       "      <th></th>\n",
       "      <th>clean_text</th>\n",
       "      <th>category</th>\n",
       "    </tr>\n",
       "  </thead>\n",
       "  <tbody>\n",
       "    <tr>\n",
       "      <th>0</th>\n",
       "      <td>when modi promised “minimum government maximum...</td>\n",
       "      <td>-1.0</td>\n",
       "    </tr>\n",
       "    <tr>\n",
       "      <th>1</th>\n",
       "      <td>talk all the nonsense and continue all the dra...</td>\n",
       "      <td>0.0</td>\n",
       "    </tr>\n",
       "    <tr>\n",
       "      <th>2</th>\n",
       "      <td>what did just say vote for modi  welcome bjp t...</td>\n",
       "      <td>1.0</td>\n",
       "    </tr>\n",
       "    <tr>\n",
       "      <th>3</th>\n",
       "      <td>asking his supporters prefix chowkidar their n...</td>\n",
       "      <td>1.0</td>\n",
       "    </tr>\n",
       "    <tr>\n",
       "      <th>4</th>\n",
       "      <td>answer who among these the most powerful world...</td>\n",
       "      <td>1.0</td>\n",
       "    </tr>\n",
       "  </tbody>\n",
       "</table>\n",
       "</div>"
      ],
      "text/plain": [
       "                                          clean_text  category\n",
       "0  when modi promised “minimum government maximum...      -1.0\n",
       "1  talk all the nonsense and continue all the dra...       0.0\n",
       "2  what did just say vote for modi  welcome bjp t...       1.0\n",
       "3  asking his supporters prefix chowkidar their n...       1.0\n",
       "4  answer who among these the most powerful world...       1.0"
      ]
     },
     "execution_count": 22,
     "metadata": {},
     "output_type": "execute_result"
    }
   ],
   "source": [
    "data.head(5)"
   ]
  },
  {
   "cell_type": "code",
   "execution_count": 13,
   "id": "ca0de410",
   "metadata": {},
   "outputs": [
    {
     "data": {
      "text/plain": [
       "55213"
      ]
     },
     "execution_count": 13,
     "metadata": {},
     "output_type": "execute_result"
    }
   ],
   "source": [
    "len(data.loc[data['category'] == 0])"
   ]
  },
  {
   "cell_type": "code",
   "execution_count": 14,
   "id": "9ec4c7bd",
   "metadata": {},
   "outputs": [
    {
     "data": {
      "text/plain": [
       "72250"
      ]
     },
     "execution_count": 14,
     "metadata": {},
     "output_type": "execute_result"
    }
   ],
   "source": [
    "len(data.loc[data['category'] == 1])"
   ]
  },
  {
   "cell_type": "code",
   "execution_count": 15,
   "id": "c892ae47",
   "metadata": {},
   "outputs": [
    {
     "data": {
      "text/plain": [
       "35510"
      ]
     },
     "execution_count": 15,
     "metadata": {},
     "output_type": "execute_result"
    }
   ],
   "source": [
    "len(data.loc[data['category'] == -1])"
   ]
  },
  {
   "cell_type": "code",
   "execution_count": 23,
   "id": "7721ff59",
   "metadata": {},
   "outputs": [
    {
     "name": "stderr",
     "output_type": "stream",
     "text": [
      "C:\\Users\\minsu\\AppData\\Local\\Temp\\ipykernel_33120\\3654214483.py:1: FutureWarning: The frame.append method is deprecated and will be removed from pandas in a future version. Use pandas.concat instead.\n",
      "  same_count_data = data.loc[data['category'] == 0][0:35510].append(data.loc[data['category'] == 1][0:35510])\n",
      "C:\\Users\\minsu\\AppData\\Local\\Temp\\ipykernel_33120\\3654214483.py:2: FutureWarning: The frame.append method is deprecated and will be removed from pandas in a future version. Use pandas.concat instead.\n",
      "  same_count_data.append(data.loc[data['category'] == -1])\n"
     ]
    },
    {
     "data": {
      "text/plain": [
       "1        0\n",
       "5        0\n",
       "6        0\n",
       "7        0\n",
       "13       0\n",
       "        ..\n",
       "79727    1\n",
       "79732    1\n",
       "79733    1\n",
       "79736    1\n",
       "79740    1\n",
       "Name: category, Length: 71020, dtype: int32"
      ]
     },
     "execution_count": 23,
     "metadata": {},
     "output_type": "execute_result"
    }
   ],
   "source": [
    "same_count_data = data.loc[data['category'] == 0][0:35510].append(data.loc[data['category'] == 1][0:35510])\n",
    "same_count_data.append(data.loc[data['category'] == -1])\n",
    "same_count_data['category'] = same_count_data['category'].astype(int)"
   ]
  },
  {
   "cell_type": "code",
   "execution_count": 24,
   "id": "4586ef9c",
   "metadata": {},
   "outputs": [],
   "source": [
    "same_count_data = same_count_data[['category','clean_text']]\n",
    "same_count_data.to_csv('../twitter_data/3-sentiment.csv')"
   ]
  },
  {
   "cell_type": "code",
   "execution_count": 19,
   "id": "29ad6e0b",
   "metadata": {},
   "outputs": [],
   "source": [
    "y.to_csv('../twitter_data/bigDataset/Twitter_Data-processed-y.csv', header=False, index=False)"
   ]
  },
  {
   "cell_type": "code",
   "execution_count": 32,
   "id": "053c787c",
   "metadata": {},
   "outputs": [
    {
     "name": "stdout",
     "output_type": "stream",
     "text": [
      "86209\n",
      "21553\n"
     ]
    }
   ],
   "source": [
    "X_train, X_test, y_train, y_test = train_test_split(data, y, test_size=0.2, random_state=42)\n",
    "print(len(X_train))\n",
    "print(len(X_test))"
   ]
  },
  {
   "cell_type": "code",
   "execution_count": 30,
   "id": "1cb4a628",
   "metadata": {},
   "outputs": [],
   "source": [
    "X_test = X_test.drop([1], axis=1)"
   ]
  },
  {
   "cell_type": "code",
   "execution_count": 31,
   "id": "fcfafe8e",
   "metadata": {},
   "outputs": [],
   "source": [
    "X_train.to_csv('../twitter_data/bigDataset/Twitter_Data-processed-train.csv', header=False, index=False)\n",
    "X_test.to_csv('../twitter_data/bigDataset/Twitter_Data-processed-X-test.csv', header=False, index=False)\n",
    "y_test.to_csv('../twitter_data/bigDataset/Twitter_Data-processed-y-test.csv', header=False, index=False)"
   ]
  }
 ],
 "metadata": {
  "kernelspec": {
   "display_name": "Python 3 (ipykernel)",
   "language": "python",
   "name": "python3"
  },
  "language_info": {
   "codemirror_mode": {
    "name": "ipython",
    "version": 3
   },
   "file_extension": ".py",
   "mimetype": "text/x-python",
   "name": "python",
   "nbconvert_exporter": "python",
   "pygments_lexer": "ipython3",
   "version": "3.9.16"
  }
 },
 "nbformat": 4,
 "nbformat_minor": 5
}
