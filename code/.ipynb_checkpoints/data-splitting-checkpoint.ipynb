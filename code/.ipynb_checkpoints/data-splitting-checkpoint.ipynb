{
 "cells": [
  {
   "cell_type": "code",
   "execution_count": 4,
   "id": "baa8363f",
   "metadata": {},
   "outputs": [],
   "source": [
    "TRAIN_PROCESSED_FILE = '../twitter_data/3-sentiment-processed.csv'"
   ]
  },
  {
   "cell_type": "code",
   "execution_count": 51,
   "id": "74598be6",
   "metadata": {},
   "outputs": [],
   "source": [
    "import numpy as np\n",
    "import pandas as pd\n",
    "from sklearn.model_selection import train_test_split"
   ]
  },
  {
   "cell_type": "code",
   "execution_count": 9,
   "id": "99a10ea2",
   "metadata": {},
   "outputs": [
    {
     "name": "stdout",
     "output_type": "stream",
     "text": [
      "106530\n"
     ]
    }
   ],
   "source": [
    "data = pd.read_csv(TRAIN_PROCESSED_FILE, header=None)\n",
    "print(len(data))"
   ]
  },
  {
   "cell_type": "code",
   "execution_count": 10,
   "id": "a209a559",
   "metadata": {
    "scrolled": true
   },
   "outputs": [
    {
     "data": {
      "text/html": [
       "<div>\n",
       "<style scoped>\n",
       "    .dataframe tbody tr th:only-of-type {\n",
       "        vertical-align: middle;\n",
       "    }\n",
       "\n",
       "    .dataframe tbody tr th {\n",
       "        vertical-align: top;\n",
       "    }\n",
       "\n",
       "    .dataframe thead th {\n",
       "        text-align: right;\n",
       "    }\n",
       "</style>\n",
       "<table border=\"1\" class=\"dataframe\">\n",
       "  <thead>\n",
       "    <tr style=\"text-align: right;\">\n",
       "      <th></th>\n",
       "      <th>0</th>\n",
       "      <th>1</th>\n",
       "      <th>2</th>\n",
       "    </tr>\n",
       "  </thead>\n",
       "  <tbody>\n",
       "    <tr>\n",
       "      <th>0</th>\n",
       "      <td>1</td>\n",
       "      <td>0</td>\n",
       "      <td>talk all the nonsense and continue all the dra...</td>\n",
       "    </tr>\n",
       "    <tr>\n",
       "      <th>1</th>\n",
       "      <td>5</td>\n",
       "      <td>0</td>\n",
       "      <td>kiya tho refresh maarkefir comment karo</td>\n",
       "    </tr>\n",
       "    <tr>\n",
       "      <th>2</th>\n",
       "      <td>6</td>\n",
       "      <td>0</td>\n",
       "      <td>surat women perform yagna seeks divine grace f...</td>\n",
       "    </tr>\n",
       "    <tr>\n",
       "      <th>3</th>\n",
       "      <td>7</td>\n",
       "      <td>0</td>\n",
       "      <td>this comes from cabinet which has scholars lik...</td>\n",
       "    </tr>\n",
       "    <tr>\n",
       "      <th>4</th>\n",
       "      <td>13</td>\n",
       "      <td>0</td>\n",
       "      <td>one vote can make all the difference anil kapo...</td>\n",
       "    </tr>\n",
       "  </tbody>\n",
       "</table>\n",
       "</div>"
      ],
      "text/plain": [
       "    0  1                                                  2\n",
       "0   1  0  talk all the nonsense and continue all the dra...\n",
       "1   5  0            kiya tho refresh maarkefir comment karo\n",
       "2   6  0  surat women perform yagna seeks divine grace f...\n",
       "3   7  0  this comes from cabinet which has scholars lik...\n",
       "4  13  0  one vote can make all the difference anil kapo..."
      ]
     },
     "execution_count": 10,
     "metadata": {},
     "output_type": "execute_result"
    }
   ],
   "source": [
    "data.head(5)"
   ]
  },
  {
   "cell_type": "code",
   "execution_count": 27,
   "id": "bc09ab4a",
   "metadata": {},
   "outputs": [
    {
     "data": {
      "text/plain": [
       "35510"
      ]
     },
     "execution_count": 27,
     "metadata": {},
     "output_type": "execute_result"
    }
   ],
   "source": [
    "positive_data = data.loc[data[1] == 1].sort_values(by=2, key=lambda x: x.str.len()).dropna()\n",
    "len(positive_data)"
   ]
  },
  {
   "cell_type": "code",
   "execution_count": 28,
   "id": "8d0ce3d3",
   "metadata": {},
   "outputs": [
    {
     "data": {
      "text/plain": [
       "35509"
      ]
     },
     "execution_count": 28,
     "metadata": {},
     "output_type": "execute_result"
    }
   ],
   "source": [
    "negative_data = data.loc[data[1] == -1].sort_values(by=2, key=lambda x: x.str.len()).dropna()\n",
    "len(negative_data)"
   ]
  },
  {
   "cell_type": "code",
   "execution_count": 29,
   "id": "8bc2a7aa",
   "metadata": {},
   "outputs": [
    {
     "data": {
      "text/html": [
       "<div>\n",
       "<style scoped>\n",
       "    .dataframe tbody tr th:only-of-type {\n",
       "        vertical-align: middle;\n",
       "    }\n",
       "\n",
       "    .dataframe tbody tr th {\n",
       "        vertical-align: top;\n",
       "    }\n",
       "\n",
       "    .dataframe thead th {\n",
       "        text-align: right;\n",
       "    }\n",
       "</style>\n",
       "<table border=\"1\" class=\"dataframe\">\n",
       "  <thead>\n",
       "    <tr style=\"text-align: right;\">\n",
       "      <th></th>\n",
       "      <th>0</th>\n",
       "      <th>1</th>\n",
       "      <th>2</th>\n",
       "    </tr>\n",
       "  </thead>\n",
       "  <tbody>\n",
       "    <tr>\n",
       "      <th>17261</th>\n",
       "      <td>50190</td>\n",
       "      <td>0</td>\n",
       "      <td>now</td>\n",
       "    </tr>\n",
       "    <tr>\n",
       "      <th>7496</th>\n",
       "      <td>21988</td>\n",
       "      <td>0</td>\n",
       "      <td>did</td>\n",
       "    </tr>\n",
       "    <tr>\n",
       "      <th>18116</th>\n",
       "      <td>52749</td>\n",
       "      <td>0</td>\n",
       "      <td>job</td>\n",
       "    </tr>\n",
       "    <tr>\n",
       "      <th>12888</th>\n",
       "      <td>37837</td>\n",
       "      <td>0</td>\n",
       "      <td>all</td>\n",
       "    </tr>\n",
       "    <tr>\n",
       "      <th>27612</th>\n",
       "      <td>82295</td>\n",
       "      <td>0</td>\n",
       "      <td>fir</td>\n",
       "    </tr>\n",
       "  </tbody>\n",
       "</table>\n",
       "</div>"
      ],
      "text/plain": [
       "           0  1    2\n",
       "17261  50190  0  now\n",
       "7496   21988  0  did\n",
       "18116  52749  0  job\n",
       "12888  37837  0  all\n",
       "27612  82295  0  fir"
      ]
     },
     "execution_count": 29,
     "metadata": {},
     "output_type": "execute_result"
    }
   ],
   "source": [
    "neutral_data = data.loc[data[1] == 0].sort_values(by=2, key=lambda x: x.str.len()).dropna()\n",
    "neutral_data.head(5)"
   ]
  },
  {
   "cell_type": "code",
   "execution_count": 42,
   "id": "75d09d59",
   "metadata": {},
   "outputs": [],
   "source": [
    "def combine_df(df, min_value, max_value):\n",
    "    # Initialize an empty dataframe with the same columns as the original dataframe\n",
    "    new_df = pd.DataFrame(columns=df.columns)\n",
    "\n",
    "    combined_str = \"\"\n",
    "    combined_row = None\n",
    "    for index, row in df.iterrows():\n",
    "        temp_str = combined_str + ' ' + row[2] if combined_str else row[2]\n",
    "        num_words = len(temp_str.split())\n",
    "\n",
    "        if num_words >= min_value:\n",
    "            if num_words <= max_value:\n",
    "                combined_str = temp_str\n",
    "            else:\n",
    "                new_df = new_df.append(combined_row, ignore_index=True)\n",
    "                combined_str = row[2]\n",
    "                combined_row = None\n",
    "        else:\n",
    "            combined_str = temp_str\n",
    "\n",
    "        if combined_row is None:\n",
    "            combined_row = row.copy()\n",
    "            combined_row[2] = combined_str\n",
    "        else:\n",
    "            combined_row[2] = combined_str\n",
    "\n",
    "    # Append the last combined row if it meets the word count requirements\n",
    "    if min_value <= len(combined_str.split()) <= max_value:\n",
    "        new_df = new_df.append(combined_row, ignore_index=True)\n",
    "\n",
    "    return new_df"
   ]
  },
  {
   "cell_type": "code",
   "execution_count": 43,
   "id": "5a47e08f",
   "metadata": {},
   "outputs": [
    {
     "name": "stderr",
     "output_type": "stream",
     "text": [
      "C:\\Users\\minsu\\AppData\\Local\\Temp\\ipykernel_17436\\1304027598.py:15: FutureWarning: The frame.append method is deprecated and will be removed from pandas in a future version. Use pandas.concat instead.\n",
      "  new_df = new_df.append(combined_row, ignore_index=True)\n"
     ]
    },
    {
     "data": {
      "text/plain": [
       "5493"
      ]
     },
     "execution_count": 43,
     "metadata": {},
     "output_type": "execute_result"
    }
   ],
   "source": [
    "combined_neutral_df = combine_df(neutral_data, 80, 100)\n",
    "len(combined_neutral_df)"
   ]
  },
  {
   "cell_type": "code",
   "execution_count": 44,
   "id": "1bc9ecb0",
   "metadata": {},
   "outputs": [
    {
     "name": "stderr",
     "output_type": "stream",
     "text": [
      "C:\\Users\\minsu\\AppData\\Local\\Temp\\ipykernel_17436\\1304027598.py:15: FutureWarning: The frame.append method is deprecated and will be removed from pandas in a future version. Use pandas.concat instead.\n",
      "  new_df = new_df.append(combined_row, ignore_index=True)\n"
     ]
    },
    {
     "data": {
      "text/plain": [
       "9261"
      ]
     },
     "execution_count": 44,
     "metadata": {},
     "output_type": "execute_result"
    }
   ],
   "source": [
    "combined_positive_df = combine_df(positive_data, 80, 100)\n",
    "len(combined_positive_df)"
   ]
  },
  {
   "cell_type": "code",
   "execution_count": 45,
   "id": "e978ce70",
   "metadata": {},
   "outputs": [
    {
     "name": "stderr",
     "output_type": "stream",
     "text": [
      "C:\\Users\\minsu\\AppData\\Local\\Temp\\ipykernel_17436\\1304027598.py:15: FutureWarning: The frame.append method is deprecated and will be removed from pandas in a future version. Use pandas.concat instead.\n",
      "  new_df = new_df.append(combined_row, ignore_index=True)\n"
     ]
    },
    {
     "data": {
      "text/plain": [
       "9853"
      ]
     },
     "execution_count": 45,
     "metadata": {},
     "output_type": "execute_result"
    }
   ],
   "source": [
    "combined_negative_df = combine_df(negative_data, 80, 100)\n",
    "len(combined_negative_df)"
   ]
  },
  {
   "cell_type": "code",
   "execution_count": 46,
   "id": "4059eaec",
   "metadata": {
    "scrolled": true
   },
   "outputs": [
    {
     "data": {
      "text/plain": [
       "'dead down dead fails unhappy failure retarded pathetic shocking very sad expected pink too mad modi shit modi hate modi stupidity seriously dirty modi indian now modi waste oops sorry pink worst blind faith this insane youre blind killed like spoof video thats scary modi failed failed modi modi failed modi behind modi shocked fake profile unbelievable its due modi you are mean very bad upa donated once down wid modi failed jawans mrmodi failed hate you modi you mean modi fake guy modi you hate modi going serious mean say modi why hate modi dint say idiot'"
      ]
     },
     "execution_count": 46,
     "metadata": {},
     "output_type": "execute_result"
    }
   ],
   "source": [
    "combined_negative_df[2].loc[0]"
   ]
  },
  {
   "cell_type": "code",
   "execution_count": 47,
   "id": "f6edd57f",
   "metadata": {},
   "outputs": [
    {
     "data": {
      "text/plain": [
       "24607"
      ]
     },
     "execution_count": 47,
     "metadata": {},
     "output_type": "execute_result"
    }
   ],
   "source": [
    "combined_df = pd.concat([combined_positive_df, combined_negative_df, combined_neutral_df], ignore_index=True)\n",
    "len(combined_df)"
   ]
  },
  {
   "cell_type": "code",
   "execution_count": 48,
   "id": "0e97f167",
   "metadata": {},
   "outputs": [
    {
     "data": {
      "text/html": [
       "<div>\n",
       "<style scoped>\n",
       "    .dataframe tbody tr th:only-of-type {\n",
       "        vertical-align: middle;\n",
       "    }\n",
       "\n",
       "    .dataframe tbody tr th {\n",
       "        vertical-align: top;\n",
       "    }\n",
       "\n",
       "    .dataframe thead th {\n",
       "        text-align: right;\n",
       "    }\n",
       "</style>\n",
       "<table border=\"1\" class=\"dataframe\">\n",
       "  <thead>\n",
       "    <tr style=\"text-align: right;\">\n",
       "      <th></th>\n",
       "      <th>0</th>\n",
       "      <th>1</th>\n",
       "      <th>2</th>\n",
       "    </tr>\n",
       "  </thead>\n",
       "  <tbody>\n",
       "    <tr>\n",
       "      <th>0</th>\n",
       "      <td>74887</td>\n",
       "      <td>1</td>\n",
       "      <td>apt true sure love nice best rofl true epic lo...</td>\n",
       "    </tr>\n",
       "    <tr>\n",
       "      <th>1</th>\n",
       "      <td>9129</td>\n",
       "      <td>1</td>\n",
       "      <td>love modi ready now great modi modi great than...</td>\n",
       "    </tr>\n",
       "    <tr>\n",
       "      <th>2</th>\n",
       "      <td>62516</td>\n",
       "      <td>1</td>\n",
       "      <td>modi winning welcome modi special gift proud m...</td>\n",
       "    </tr>\n",
       "    <tr>\n",
       "      <th>3</th>\n",
       "      <td>25084</td>\n",
       "      <td>1</td>\n",
       "      <td>when modi win love modi jee modi live now modi...</td>\n",
       "    </tr>\n",
       "  </tbody>\n",
       "</table>\n",
       "</div>"
      ],
      "text/plain": [
       "       0  1                                                  2\n",
       "0  74887  1  apt true sure love nice best rofl true epic lo...\n",
       "1   9129  1  love modi ready now great modi modi great than...\n",
       "2  62516  1  modi winning welcome modi special gift proud m...\n",
       "3  25084  1  when modi win love modi jee modi live now modi..."
      ]
     },
     "execution_count": 48,
     "metadata": {},
     "output_type": "execute_result"
    }
   ],
   "source": [
    "combined_df.head(4)"
   ]
  },
  {
   "cell_type": "code",
   "execution_count": 130,
   "id": "4e9f9233",
   "metadata": {},
   "outputs": [],
   "source": [
    "data = data[['category', 'clean_comment']]"
   ]
  },
  {
   "cell_type": "code",
   "execution_count": 131,
   "id": "c195deaf",
   "metadata": {},
   "outputs": [
    {
     "ename": "KeyError",
     "evalue": "\"None of [Int64Index([2], dtype='int64')] are in the [columns]\"",
     "output_type": "error",
     "traceback": [
      "\u001b[1;31m---------------------------------------------------------------------------\u001b[0m",
      "\u001b[1;31mKeyError\u001b[0m                                  Traceback (most recent call last)",
      "Cell \u001b[1;32mIn[131], line 1\u001b[0m\n\u001b[1;32m----> 1\u001b[0m text \u001b[38;5;241m=\u001b[39m \u001b[43mdata\u001b[49m\u001b[43m[\u001b[49m\u001b[43m[\u001b[49m\u001b[38;5;241;43m2\u001b[39;49m\u001b[43m]\u001b[49m\u001b[43m]\u001b[49m\n\u001b[0;32m      2\u001b[0m count \u001b[38;5;241m=\u001b[39m \u001b[38;5;241m0\u001b[39m\n\u001b[0;32m      3\u001b[0m max_count \u001b[38;5;241m=\u001b[39m \u001b[38;5;241m-\u001b[39m\u001b[38;5;241m1\u001b[39m\n",
      "File \u001b[1;32m~\\anaconda3\\envs\\mlp2\\lib\\site-packages\\pandas\\core\\frame.py:3811\u001b[0m, in \u001b[0;36mDataFrame.__getitem__\u001b[1;34m(self, key)\u001b[0m\n\u001b[0;32m   3809\u001b[0m     \u001b[38;5;28;01mif\u001b[39;00m is_iterator(key):\n\u001b[0;32m   3810\u001b[0m         key \u001b[38;5;241m=\u001b[39m \u001b[38;5;28mlist\u001b[39m(key)\n\u001b[1;32m-> 3811\u001b[0m     indexer \u001b[38;5;241m=\u001b[39m \u001b[38;5;28;43mself\u001b[39;49m\u001b[38;5;241;43m.\u001b[39;49m\u001b[43mcolumns\u001b[49m\u001b[38;5;241;43m.\u001b[39;49m\u001b[43m_get_indexer_strict\u001b[49m\u001b[43m(\u001b[49m\u001b[43mkey\u001b[49m\u001b[43m,\u001b[49m\u001b[43m \u001b[49m\u001b[38;5;124;43m\"\u001b[39;49m\u001b[38;5;124;43mcolumns\u001b[39;49m\u001b[38;5;124;43m\"\u001b[39;49m\u001b[43m)\u001b[49m[\u001b[38;5;241m1\u001b[39m]\n\u001b[0;32m   3813\u001b[0m \u001b[38;5;66;03m# take() does not accept boolean indexers\u001b[39;00m\n\u001b[0;32m   3814\u001b[0m \u001b[38;5;28;01mif\u001b[39;00m \u001b[38;5;28mgetattr\u001b[39m(indexer, \u001b[38;5;124m\"\u001b[39m\u001b[38;5;124mdtype\u001b[39m\u001b[38;5;124m\"\u001b[39m, \u001b[38;5;28;01mNone\u001b[39;00m) \u001b[38;5;241m==\u001b[39m \u001b[38;5;28mbool\u001b[39m:\n",
      "File \u001b[1;32m~\\anaconda3\\envs\\mlp2\\lib\\site-packages\\pandas\\core\\indexes\\base.py:6113\u001b[0m, in \u001b[0;36mIndex._get_indexer_strict\u001b[1;34m(self, key, axis_name)\u001b[0m\n\u001b[0;32m   6110\u001b[0m \u001b[38;5;28;01melse\u001b[39;00m:\n\u001b[0;32m   6111\u001b[0m     keyarr, indexer, new_indexer \u001b[38;5;241m=\u001b[39m \u001b[38;5;28mself\u001b[39m\u001b[38;5;241m.\u001b[39m_reindex_non_unique(keyarr)\n\u001b[1;32m-> 6113\u001b[0m \u001b[38;5;28;43mself\u001b[39;49m\u001b[38;5;241;43m.\u001b[39;49m\u001b[43m_raise_if_missing\u001b[49m\u001b[43m(\u001b[49m\u001b[43mkeyarr\u001b[49m\u001b[43m,\u001b[49m\u001b[43m \u001b[49m\u001b[43mindexer\u001b[49m\u001b[43m,\u001b[49m\u001b[43m \u001b[49m\u001b[43maxis_name\u001b[49m\u001b[43m)\u001b[49m\n\u001b[0;32m   6115\u001b[0m keyarr \u001b[38;5;241m=\u001b[39m \u001b[38;5;28mself\u001b[39m\u001b[38;5;241m.\u001b[39mtake(indexer)\n\u001b[0;32m   6116\u001b[0m \u001b[38;5;28;01mif\u001b[39;00m \u001b[38;5;28misinstance\u001b[39m(key, Index):\n\u001b[0;32m   6117\u001b[0m     \u001b[38;5;66;03m# GH 42790 - Preserve name from an Index\u001b[39;00m\n",
      "File \u001b[1;32m~\\anaconda3\\envs\\mlp2\\lib\\site-packages\\pandas\\core\\indexes\\base.py:6173\u001b[0m, in \u001b[0;36mIndex._raise_if_missing\u001b[1;34m(self, key, indexer, axis_name)\u001b[0m\n\u001b[0;32m   6171\u001b[0m     \u001b[38;5;28;01mif\u001b[39;00m use_interval_msg:\n\u001b[0;32m   6172\u001b[0m         key \u001b[38;5;241m=\u001b[39m \u001b[38;5;28mlist\u001b[39m(key)\n\u001b[1;32m-> 6173\u001b[0m     \u001b[38;5;28;01mraise\u001b[39;00m \u001b[38;5;167;01mKeyError\u001b[39;00m(\u001b[38;5;124mf\u001b[39m\u001b[38;5;124m\"\u001b[39m\u001b[38;5;124mNone of [\u001b[39m\u001b[38;5;132;01m{\u001b[39;00mkey\u001b[38;5;132;01m}\u001b[39;00m\u001b[38;5;124m] are in the [\u001b[39m\u001b[38;5;132;01m{\u001b[39;00maxis_name\u001b[38;5;132;01m}\u001b[39;00m\u001b[38;5;124m]\u001b[39m\u001b[38;5;124m\"\u001b[39m)\n\u001b[0;32m   6175\u001b[0m not_found \u001b[38;5;241m=\u001b[39m \u001b[38;5;28mlist\u001b[39m(ensure_index(key)[missing_mask\u001b[38;5;241m.\u001b[39mnonzero()[\u001b[38;5;241m0\u001b[39m]]\u001b[38;5;241m.\u001b[39munique())\n\u001b[0;32m   6176\u001b[0m \u001b[38;5;28;01mraise\u001b[39;00m \u001b[38;5;167;01mKeyError\u001b[39;00m(\u001b[38;5;124mf\u001b[39m\u001b[38;5;124m\"\u001b[39m\u001b[38;5;132;01m{\u001b[39;00mnot_found\u001b[38;5;132;01m}\u001b[39;00m\u001b[38;5;124m not in index\u001b[39m\u001b[38;5;124m\"\u001b[39m)\n",
      "\u001b[1;31mKeyError\u001b[0m: \"None of [Int64Index([2], dtype='int64')] are in the [columns]\""
     ]
    }
   ],
   "source": [
    "text = data[[2]]\n",
    "count = 0\n",
    "max_count = -1\n",
    "min_count = float('inf')\n",
    "lessthan5 = 0\n",
    "for i in range(2, len(text)):\n",
    "    v = text.iloc[i].values[0]\n",
    "    if isinstance(v, str):\n",
    "        if (len(text.iloc[i].values[0].split())) > max_count:\n",
    "            max_count = len(text.iloc[i].values[0].split())\n",
    "        if (len(text.iloc[i].values[0].split())) < min_count:\n",
    "            min_count = len(text.iloc[i].values[0].split())\n",
    "        if (len(text.iloc[i].values[0].split())) < 20:\n",
    "            lessthan5 += 1\n",
    "        count += len(text.iloc[i].values[0].split())\n",
    "count /= len(data)\n",
    "print(count)\n",
    "print(lessthan5)\n",
    "print(max_count)\n",
    "print(min_count)"
   ]
  },
  {
   "cell_type": "code",
   "execution_count": 132,
   "id": "a5cf33ed",
   "metadata": {},
   "outputs": [
    {
     "data": {
      "text/plain": [
       "15830"
      ]
     },
     "execution_count": 132,
     "metadata": {},
     "output_type": "execute_result"
    }
   ],
   "source": [
    "len(data.loc[data['category'] == 1])"
   ]
  },
  {
   "cell_type": "code",
   "execution_count": 133,
   "id": "cd548a76",
   "metadata": {},
   "outputs": [
    {
     "data": {
      "text/plain": [
       "8277"
      ]
     },
     "execution_count": 133,
     "metadata": {},
     "output_type": "execute_result"
    }
   ],
   "source": [
    "len(data.loc[data['category'] == -1])"
   ]
  },
  {
   "cell_type": "code",
   "execution_count": 134,
   "id": "b42631ad",
   "metadata": {},
   "outputs": [
    {
     "data": {
      "text/plain": [
       "13142"
      ]
     },
     "execution_count": 134,
     "metadata": {},
     "output_type": "execute_result"
    }
   ],
   "source": [
    "len(data.loc[data['category'] == 0])"
   ]
  },
  {
   "cell_type": "code",
   "execution_count": 135,
   "id": "33b73bee",
   "metadata": {
    "scrolled": true
   },
   "outputs": [
    {
     "name": "stderr",
     "output_type": "stream",
     "text": [
      "C:\\Users\\minsu\\AppData\\Local\\Temp\\ipykernel_3044\\3875382132.py:2: FutureWarning: The frame.append method is deprecated and will be removed from pandas in a future version. Use pandas.concat instead.\n",
      "  equal_count_data = equal_count_data.append(data.loc[data['category'] == -1][0:8277])\n",
      "C:\\Users\\minsu\\AppData\\Local\\Temp\\ipykernel_3044\\3875382132.py:3: FutureWarning: The frame.append method is deprecated and will be removed from pandas in a future version. Use pandas.concat instead.\n",
      "  equal_count_data = equal_count_data.append(data.loc[data['category'] == 0][0:8277])\n"
     ]
    }
   ],
   "source": [
    "equal_count_data = data.loc[data['category'] == 1][0:8277]\n",
    "equal_count_data = equal_count_data.append(data.loc[data['category'] == -1][0:8277])\n",
    "equal_count_data = equal_count_data.append(data.loc[data['category'] == 0][0:8277])"
   ]
  },
  {
   "cell_type": "code",
   "execution_count": 136,
   "id": "f091fbd8",
   "metadata": {},
   "outputs": [
    {
     "data": {
      "text/plain": [
       "24831"
      ]
     },
     "execution_count": 136,
     "metadata": {},
     "output_type": "execute_result"
    }
   ],
   "source": [
    "len(equal_count_data)"
   ]
  },
  {
   "cell_type": "code",
   "execution_count": 78,
   "id": "f7313fcb",
   "metadata": {},
   "outputs": [
    {
     "data": {
      "text/html": [
       "<div>\n",
       "<style scoped>\n",
       "    .dataframe tbody tr th:only-of-type {\n",
       "        vertical-align: middle;\n",
       "    }\n",
       "\n",
       "    .dataframe tbody tr th {\n",
       "        vertical-align: top;\n",
       "    }\n",
       "\n",
       "    .dataframe thead th {\n",
       "        text-align: right;\n",
       "    }\n",
       "</style>\n",
       "<table border=\"1\" class=\"dataframe\">\n",
       "  <thead>\n",
       "    <tr style=\"text-align: right;\">\n",
       "      <th></th>\n",
       "      <th>1</th>\n",
       "    </tr>\n",
       "  </thead>\n",
       "  <tbody>\n",
       "    <tr>\n",
       "      <th>0</th>\n",
       "      <td>1</td>\n",
       "    </tr>\n",
       "    <tr>\n",
       "      <th>1</th>\n",
       "      <td>1</td>\n",
       "    </tr>\n",
       "    <tr>\n",
       "      <th>2</th>\n",
       "      <td>1</td>\n",
       "    </tr>\n",
       "    <tr>\n",
       "      <th>3</th>\n",
       "      <td>1</td>\n",
       "    </tr>\n",
       "    <tr>\n",
       "      <th>4</th>\n",
       "      <td>1</td>\n",
       "    </tr>\n",
       "  </tbody>\n",
       "</table>\n",
       "</div>"
      ],
      "text/plain": [
       "   1\n",
       "0  1\n",
       "1  1\n",
       "2  1\n",
       "3  1\n",
       "4  1"
      ]
     },
     "execution_count": 78,
     "metadata": {},
     "output_type": "execute_result"
    }
   ],
   "source": [
    "y = combined_df[[1]]\n",
    "y.head(5)"
   ]
  },
  {
   "cell_type": "code",
   "execution_count": 52,
   "id": "053c787c",
   "metadata": {},
   "outputs": [],
   "source": [
    "def split_train_test(data, y, test_size=0.2, random_state=42):\n",
    "    X_train, X_test, y_train, y_test = train_test_split(data, y, test_size=test_size, random_state=random_state)\n",
    "#     X_test = X_test.drop([1], axis=1)\n",
    "#     y_test = y_test.drop([0], axis=1)\n",
    "    print(len(X_train))\n",
    "    print(len(X_test))\n",
    "    return X_train, X_test, y_train, y_test"
   ]
  },
  {
   "cell_type": "code",
   "execution_count": 79,
   "id": "b07fc693",
   "metadata": {},
   "outputs": [
    {
     "name": "stdout",
     "output_type": "stream",
     "text": [
      "19685\n",
      "4922\n"
     ]
    }
   ],
   "source": [
    "X_train0, X_test0, y_train0, y_test0 = split_train_test(combined_df, y, test_size=0.2, random_state=990309)"
   ]
  },
  {
   "cell_type": "code",
   "execution_count": 80,
   "id": "78ed207f",
   "metadata": {},
   "outputs": [
    {
     "data": {
      "text/html": [
       "<div>\n",
       "<style scoped>\n",
       "    .dataframe tbody tr th:only-of-type {\n",
       "        vertical-align: middle;\n",
       "    }\n",
       "\n",
       "    .dataframe tbody tr th {\n",
       "        vertical-align: top;\n",
       "    }\n",
       "\n",
       "    .dataframe thead th {\n",
       "        text-align: right;\n",
       "    }\n",
       "</style>\n",
       "<table border=\"1\" class=\"dataframe\">\n",
       "  <thead>\n",
       "    <tr style=\"text-align: right;\">\n",
       "      <th></th>\n",
       "      <th>0</th>\n",
       "      <th>1</th>\n",
       "      <th>2</th>\n",
       "    </tr>\n",
       "  </thead>\n",
       "  <tbody>\n",
       "    <tr>\n",
       "      <th>7416</th>\n",
       "      <td>27760</td>\n",
       "      <td>1</td>\n",
       "      <td>also let make list what modi did not promised ...</td>\n",
       "    </tr>\n",
       "    <tr>\n",
       "      <th>22912</th>\n",
       "      <td>13356</td>\n",
       "      <td>0</td>\n",
       "      <td>and ask the person you are standing next too a...</td>\n",
       "    </tr>\n",
       "    <tr>\n",
       "      <th>4050</th>\n",
       "      <td>1742</td>\n",
       "      <td>1</td>\n",
       "      <td>all goes well god willing and definitely the i...</td>\n",
       "    </tr>\n",
       "    <tr>\n",
       "      <th>16685</th>\n",
       "      <td>17014</td>\n",
       "      <td>-1</td>\n",
       "      <td>you mean say people india give full mandate mo...</td>\n",
       "    </tr>\n",
       "    <tr>\n",
       "      <th>10437</th>\n",
       "      <td>61120</td>\n",
       "      <td>-1</td>\n",
       "      <td>amethi after term and varanasi after single te...</td>\n",
       "    </tr>\n",
       "  </tbody>\n",
       "</table>\n",
       "</div>"
      ],
      "text/plain": [
       "           0   1                                                  2\n",
       "7416   27760   1  also let make list what modi did not promised ...\n",
       "22912  13356   0  and ask the person you are standing next too a...\n",
       "4050    1742   1  all goes well god willing and definitely the i...\n",
       "16685  17014  -1  you mean say people india give full mandate mo...\n",
       "10437  61120  -1  amethi after term and varanasi after single te..."
      ]
     },
     "execution_count": 80,
     "metadata": {},
     "output_type": "execute_result"
    }
   ],
   "source": [
    "X_train0.head(5)"
   ]
  },
  {
   "cell_type": "code",
   "execution_count": 83,
   "id": "ec52137e",
   "metadata": {},
   "outputs": [
    {
     "data": {
      "text/html": [
       "<div>\n",
       "<style scoped>\n",
       "    .dataframe tbody tr th:only-of-type {\n",
       "        vertical-align: middle;\n",
       "    }\n",
       "\n",
       "    .dataframe tbody tr th {\n",
       "        vertical-align: top;\n",
       "    }\n",
       "\n",
       "    .dataframe thead th {\n",
       "        text-align: right;\n",
       "    }\n",
       "</style>\n",
       "<table border=\"1\" class=\"dataframe\">\n",
       "  <thead>\n",
       "    <tr style=\"text-align: right;\">\n",
       "      <th></th>\n",
       "      <th>0</th>\n",
       "      <th>2</th>\n",
       "    </tr>\n",
       "  </thead>\n",
       "  <tbody>\n",
       "    <tr>\n",
       "      <th>10557</th>\n",
       "      <td>113064</td>\n",
       "      <td>responding jibe pcc vicepresident ananta sethi...</td>\n",
       "    </tr>\n",
       "    <tr>\n",
       "      <th>17756</th>\n",
       "      <td>151652</td>\n",
       "      <td>stupidity limitless tharoor but now india used...</td>\n",
       "    </tr>\n",
       "    <tr>\n",
       "      <th>12781</th>\n",
       "      <td>48632</td>\n",
       "      <td>modi gave credit all scientists behalf all peo...</td>\n",
       "    </tr>\n",
       "    <tr>\n",
       "      <th>6501</th>\n",
       "      <td>17658</td>\n",
       "      <td>nothing better can expected from someone who b...</td>\n",
       "    </tr>\n",
       "    <tr>\n",
       "      <th>4448</th>\n",
       "      <td>79422</td>\n",
       "      <td>modi real life hero nothing wrong idolizing pe...</td>\n",
       "    </tr>\n",
       "  </tbody>\n",
       "</table>\n",
       "</div>"
      ],
      "text/plain": [
       "            0                                                  2\n",
       "10557  113064  responding jibe pcc vicepresident ananta sethi...\n",
       "17756  151652  stupidity limitless tharoor but now india used...\n",
       "12781   48632  modi gave credit all scientists behalf all peo...\n",
       "6501    17658  nothing better can expected from someone who b...\n",
       "4448    79422  modi real life hero nothing wrong idolizing pe..."
      ]
     },
     "execution_count": 83,
     "metadata": {},
     "output_type": "execute_result"
    }
   ],
   "source": [
    "X_test0.head(5)"
   ]
  },
  {
   "cell_type": "code",
   "execution_count": 82,
   "id": "4bbdf19f",
   "metadata": {},
   "outputs": [],
   "source": [
    "X_test0 = X_test0.drop([1], axis=1)"
   ]
  },
  {
   "cell_type": "code",
   "execution_count": 84,
   "id": "5803f196",
   "metadata": {},
   "outputs": [
    {
     "data": {
      "text/html": [
       "<div>\n",
       "<style scoped>\n",
       "    .dataframe tbody tr th:only-of-type {\n",
       "        vertical-align: middle;\n",
       "    }\n",
       "\n",
       "    .dataframe tbody tr th {\n",
       "        vertical-align: top;\n",
       "    }\n",
       "\n",
       "    .dataframe thead th {\n",
       "        text-align: right;\n",
       "    }\n",
       "</style>\n",
       "<table border=\"1\" class=\"dataframe\">\n",
       "  <thead>\n",
       "    <tr style=\"text-align: right;\">\n",
       "      <th></th>\n",
       "      <th>1</th>\n",
       "    </tr>\n",
       "  </thead>\n",
       "  <tbody>\n",
       "    <tr>\n",
       "      <th>10557</th>\n",
       "      <td>-1</td>\n",
       "    </tr>\n",
       "    <tr>\n",
       "      <th>17756</th>\n",
       "      <td>-1</td>\n",
       "    </tr>\n",
       "    <tr>\n",
       "      <th>12781</th>\n",
       "      <td>-1</td>\n",
       "    </tr>\n",
       "    <tr>\n",
       "      <th>6501</th>\n",
       "      <td>1</td>\n",
       "    </tr>\n",
       "    <tr>\n",
       "      <th>4448</th>\n",
       "      <td>1</td>\n",
       "    </tr>\n",
       "  </tbody>\n",
       "</table>\n",
       "</div>"
      ],
      "text/plain": [
       "        1\n",
       "10557  -1\n",
       "17756  -1\n",
       "12781  -1\n",
       "6501    1\n",
       "4448    1"
      ]
     },
     "execution_count": 84,
     "metadata": {},
     "output_type": "execute_result"
    }
   ],
   "source": [
    "y_test0.head(5)"
   ]
  },
  {
   "cell_type": "code",
   "execution_count": 85,
   "id": "fcfafe8e",
   "metadata": {},
   "outputs": [],
   "source": [
    "def write_to_csv(X_train, X_test, y_test, name, header=False, index=False):\n",
    "    X_train.to_csv('../twitter_data/3-sentiment-train-{}.csv'.format(name), header=header, index=index)\n",
    "    X_test.to_csv('../twitter_data/3-sentiment-X-test-{}.csv'.format(name), header=header, index=index)\n",
    "    y_test.to_csv('../twitter_data/3-sentiment-y-test-{}.csv'.format(name), header=header, index=index)"
   ]
  },
  {
   "cell_type": "code",
   "execution_count": 86,
   "id": "0e26fba1",
   "metadata": {},
   "outputs": [],
   "source": [
    "write_to_csv(X_train0, X_test0, y_test0, \"combined\", index=False)"
   ]
  }
 ],
 "metadata": {
  "kernelspec": {
   "display_name": "Python 3 (ipykernel)",
   "language": "python",
   "name": "python3"
  },
  "language_info": {
   "codemirror_mode": {
    "name": "ipython",
    "version": 3
   },
   "file_extension": ".py",
   "mimetype": "text/x-python",
   "name": "python",
   "nbconvert_exporter": "python",
   "pygments_lexer": "ipython3",
   "version": "3.9.16"
  }
 },
 "nbformat": 4,
 "nbformat_minor": 5
}
